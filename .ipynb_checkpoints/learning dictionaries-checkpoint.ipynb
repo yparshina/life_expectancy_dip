{
 "metadata": {
  "name": ""
 },
 "nbformat": 3,
 "nbformat_minor": 0,
 "worksheets": [
  {
   "cells": [
    {
     "cell_type": "code",
     "collapsed": false,
     "input": [
      "\n",
      "social_dev = mlab.csv2rec(\"data/social_dev_1.csv\")"
     ],
     "language": "python",
     "metadata": {},
     "outputs": [],
     "prompt_number": 2
    },
    {
     "cell_type": "raw",
     "metadata": {},
     "source": [
      "The dataset comes from the World Bank: http://data.worldbank.org/topic/social-development"
     ]
    },
    {
     "cell_type": "code",
     "collapsed": false,
     "input": [
      "life_exp_f = []\n",
      "life_exp_m = []\n",
      "\n",
      "\n",
      "recNum_f = 27\n",
      "recNum_m = 28\n",
      "\n",
      "for i in range(27,7309):\n",
      "    if i == recNum_f:\n",
      "        life_exp_f.append(social_dev[i])\n",
      "        recNum_f += 29\n",
      "    \n",
      "    if i == recNum_m:\n",
      "        life_exp_m.append(social_dev[i])\n",
      "        recNum_m += 29"
     ],
     "language": "python",
     "metadata": {},
     "outputs": []
    },
    {
     "cell_type": "code",
     "collapsed": false,
     "input": [
      "plt.plot(life_exp_f_Afg)\n",
      "plt.plot(life_exp_m_Afg)"
     ],
     "language": "python",
     "metadata": {},
     "outputs": [
      {
       "metadata": {},
       "output_type": "pyout",
       "prompt_number": 234,
       "text": [
        "[<matplotlib.lines.Line2D at 0x10ada8690>]"
       ]
      },
      {
       "metadata": {},
       "output_type": "display_data",
       "png": "[encoded data removed]",
       "text": [
        "<matplotlib.figure.Figure at 0x10ae41610>"
       ]
      }
     ],
     "prompt_number": 234
    },
    {
     "cell_type": "heading",
     "level": 2,
     "metadata": {},
     "source": [
      "Sierra Leone"
     ]
    },
    {
     "cell_type": "code",
     "collapsed": false,
     "input": [
      "# arrays for country-specific year-by-year data\n",
      "life_exp_f_SL = []\n",
      "life_exp_m_SL = []\n",
      "\n",
      "# put country-specific data in arrays\n",
      "for country in life_exp_f:\n",
      "    if country[0] == \"Sierra Leone\":\n",
      "        for year in country:\n",
      "            life_exp_f_SL.append(year)\n",
      "\n",
      "for country in life_exp_m:\n",
      "    if country[0] == \"Sierra Leone\":\n",
      "        for year in country:\n",
      "            life_exp_m_SL.append(year)\n",
      "\n",
      "# remove the first three fields containing text descriptions (to make plotting possible)\n",
      "for text in life_exp_f_SL[0:4]:\n",
      "    life_exp_f_SL.remove(text)\n",
      "    \n",
      "for text in life_exp_m_SL[0:4]:\n",
      "    life_exp_m_SL.remove(text)\n",
      "\n",
      "# remove non-numeric (nan) values: generated by empty fields (missing data)    \n",
      "for value in life_exp_f_SL:\n",
      "    if math.isnan(value):\n",
      "        life_exp_f_SL.remove(value)\n",
      "        \n",
      "for value in life_exp_m_SL:\n",
      "    if math.isnan(value):\n",
      "        life_exp_m_SL.remove(value)"
     ],
     "language": "python",
     "metadata": {},
     "outputs": [],
     "prompt_number": 170
    },
    {
     "cell_type": "code",
     "collapsed": false,
     "input": [
      "pyplot.hist(life_exp_f_SL)"
     ],
     "language": "python",
     "metadata": {},
     "outputs": [
      {
       "metadata": {},
       "output_type": "pyout",
       "prompt_number": 236,
       "text": [
        "(array([ 6.,  4.,  3.,  6.,  7.,  6.,  6.,  8.,  2.,  4.]),\n",
        " array([ 32.796 ,  34.3576,  35.9192,  37.4808,  39.0424,  40.604 ,\n",
        "        42.1656,  43.7272,  45.2888,  46.8504,  48.412 ]),\n",
        " <a list of 10 Patch objects>)"
       ]
      },
      {
       "metadata": {},
       "output_type": "display_data",
       "png": "[encoded data removed]",
       "text": [
        "<matplotlib.figure.Figure at 0x10b07d8d0>"
       ]
      }
     ],
     "prompt_number": 236
    },
    {
     "cell_type": "code",
     "collapsed": false,
     "input": [
      "pyplot.hist(life_exp_m_SL)"
     ],
     "language": "python",
     "metadata": {},
     "outputs": [
      {
       "metadata": {},
       "output_type": "pyout",
       "prompt_number": 237,
       "text": [
        "(array([  6.,   3.,   3.,  11.,   6.,   4.,   6.,   7.,   2.,   4.]),\n",
        " array([ 30.19  ,  31.8881,  33.5862,  35.2843,  36.9824,  38.6805,\n",
        "        40.3786,  42.0767,  43.7748,  45.4729,  47.171 ]),\n",
        " <a list of 10 Patch objects>)"
       ]
      },
      {
       "metadata": {},
       "output_type": "display_data",
       "png": "[encoded data removed]",
       "text": [
        "<matplotlib.figure.Figure at 0x10b10d590>"
       ]
      }
     ],
     "prompt_number": 237
    },
    {
     "cell_type": "code",
     "collapsed": false,
     "input": [
      "plt.plot(life_exp_f_SL)\n",
      "plt.plot(life_exp_m_SL)"
     ],
     "language": "python",
     "metadata": {},
     "outputs": [
      {
       "metadata": {},
       "output_type": "pyout",
       "prompt_number": 238,
       "text": [
        "[<matplotlib.lines.Line2D at 0x10af01710>]"
       ]
      },
      {
       "metadata": {},
       "output_type": "display_data",
       "png": "[encoded data removed]",
       "text": [
        "<matplotlib.figure.Figure at 0x10b077c90>"
       ]
      }
     ],
     "prompt_number": 238
    },
    {
     "cell_type": "heading",
     "level": 2,
     "metadata": {},
     "source": [
      "Burundi"
     ]
    },
    {
     "cell_type": "heading",
     "level": 4,
     "metadata": {},
     "source": [
      "New Approach"
     ]
    },
    {
     "cell_type": "raw",
     "metadata": {},
     "source": [
      "(in progress...)\n",
      "\n",
      "I am creating dictionaries for the male and female life expectancy that will have keys \"country_f\" and \"country_m\" and data comprised of ages by year (without descriptive text). In order to target specific record fields (years) for inclusion in the dictionary, the record must first become a list. \n",
      "\n",
      "My steps are:\n",
      "1) Check life_exp_f and life_exp_m array, find the Burundi record and append it to a burundi_f and burundi_m lists\n",
      "2) Create dictionaries life_exp_f_Bur and life_exp_m_Bur\n",
      "3) Name dictionaries with appropriate keys and append fields 4:56 to dictionaries: 1960-2012\n",
      "\n",
      "Issue:\n",
      "Dictionary data doesn't plot with matplotlib"
     ]
    },
    {
     "cell_type": "code",
     "collapsed": false,
     "input": [
      "# lists to hold the entire Burundi male and female life expectancy record\n",
      "\n",
      "burundi_f = []\n",
      "burundi_m = []\n",
      "\n",
      "\n",
      "# Get record into the burundi_f list\n",
      "for country in life_exp_f:\n",
      "    if country[0] == \"Burundi\":\n",
      "        for year in country:\n",
      "            burundi_f.append(year)\n",
      "\n",
      "# Get record into the burundi_m list\n",
      "for country in life_exp_m:\n",
      "    if country[0] == \"Burundi\":\n",
      "        for year in country:\n",
      "            burundi_m.append(year)\n"
     ],
     "language": "python",
     "metadata": {},
     "outputs": [
      {
       "ename": "NameError",
       "evalue": "name 'life_exp_f' is not defined",
       "output_type": "pyerr",
       "traceback": [
        "\u001b[0;31m---------------------------------------------------------------------------\u001b[0m\n\u001b[0;31mNameError\u001b[0m                                 Traceback (most recent call last)",
        "\u001b[0;32m<ipython-input-6-f5907a5ec4da>\u001b[0m in \u001b[0;36m<module>\u001b[0;34m()\u001b[0m\n\u001b[1;32m      6\u001b[0m \u001b[0;34m\u001b[0m\u001b[0m\n\u001b[1;32m      7\u001b[0m \u001b[0;31m# Get record into the burundi_f list\u001b[0m\u001b[0;34m\u001b[0m\u001b[0;34m\u001b[0m\u001b[0m\n\u001b[0;32m----> 8\u001b[0;31m \u001b[0;32mfor\u001b[0m \u001b[0mcountry\u001b[0m \u001b[0;32min\u001b[0m \u001b[0mlife_exp_f\u001b[0m\u001b[0;34m:\u001b[0m\u001b[0;34m\u001b[0m\u001b[0m\n\u001b[0m\u001b[1;32m      9\u001b[0m     \u001b[0;32mif\u001b[0m \u001b[0mcountry\u001b[0m\u001b[0;34m[\u001b[0m\u001b[0;36m0\u001b[0m\u001b[0;34m]\u001b[0m \u001b[0;34m==\u001b[0m \u001b[0;34m\"Burundi\"\u001b[0m\u001b[0;34m:\u001b[0m\u001b[0;34m\u001b[0m\u001b[0m\n\u001b[1;32m     10\u001b[0m         \u001b[0;32mfor\u001b[0m \u001b[0myear\u001b[0m \u001b[0;32min\u001b[0m \u001b[0mcountry\u001b[0m\u001b[0;34m:\u001b[0m\u001b[0;34m\u001b[0m\u001b[0m\n",
        "\u001b[0;31mNameError\u001b[0m: name 'life_exp_f' is not defined"
       ]
      }
     ],
     "prompt_number": 6
    },
    {
     "cell_type": "code",
     "collapsed": false,
     "input": [
      "life_exp_f_Bur = {}\n",
      "life_exp_m_Bur = {}\n",
      "\n",
      "life_exp_f_Bur['life_exp_f_bur'] = [burundi[4:55]]\n",
      "life_exp_m_Bur['life_exp_m_bur'] = [burundi[4:55]]"
     ],
     "language": "python",
     "metadata": {},
     "outputs": [
      {
       "ename": "NameError",
       "evalue": "name 'burundi' is not defined",
       "output_type": "pyerr",
       "traceback": [
        "\u001b[0;31m---------------------------------------------------------------------------\u001b[0m\n\u001b[0;31mNameError\u001b[0m                                 Traceback (most recent call last)",
        "\u001b[0;32m<ipython-input-5-3cd5924e45b6>\u001b[0m in \u001b[0;36m<module>\u001b[0;34m()\u001b[0m\n\u001b[1;32m      2\u001b[0m \u001b[0mlife_exp_m_Bur\u001b[0m \u001b[0;34m=\u001b[0m \u001b[0;34m{\u001b[0m\u001b[0;34m}\u001b[0m\u001b[0;34m\u001b[0m\u001b[0m\n\u001b[1;32m      3\u001b[0m \u001b[0;34m\u001b[0m\u001b[0m\n\u001b[0;32m----> 4\u001b[0;31m \u001b[0mlife_exp_f_Bur\u001b[0m\u001b[0;34m[\u001b[0m\u001b[0;34m'life_exp_f_bur'\u001b[0m\u001b[0;34m]\u001b[0m \u001b[0;34m=\u001b[0m \u001b[0;34m[\u001b[0m\u001b[0mburundi\u001b[0m\u001b[0;34m[\u001b[0m\u001b[0;36m4\u001b[0m\u001b[0;34m:\u001b[0m\u001b[0;36m55\u001b[0m\u001b[0;34m]\u001b[0m\u001b[0;34m]\u001b[0m\u001b[0;34m\u001b[0m\u001b[0m\n\u001b[0m\u001b[1;32m      5\u001b[0m \u001b[0mlife_exp_m_Bur\u001b[0m\u001b[0;34m[\u001b[0m\u001b[0;34m'life_exp_m_bur'\u001b[0m\u001b[0;34m]\u001b[0m \u001b[0;34m=\u001b[0m \u001b[0;34m[\u001b[0m\u001b[0mburundi\u001b[0m\u001b[0;34m[\u001b[0m\u001b[0;36m4\u001b[0m\u001b[0;34m:\u001b[0m\u001b[0;36m55\u001b[0m\u001b[0;34m]\u001b[0m\u001b[0;34m]\u001b[0m\u001b[0;34m\u001b[0m\u001b[0m\n",
        "\u001b[0;31mNameError\u001b[0m: name 'burundi' is not defined"
       ]
      }
     ],
     "prompt_number": 5
    },
    {
     "cell_type": "code",
     "collapsed": false,
     "input": [
      "print burundi_f"
     ],
     "language": "python",
     "metadata": {},
     "outputs": [
      {
       "output_type": "stream",
       "stream": "stdout",
       "text": [
        "['Burundi', 'BDI', 'Life expectancy at birth, female (years)', 'SP.DYN.LE00.FE.IN', 42.851999999999997, 43.167000000000002, 43.488999999999997, 43.814, 44.136000000000003, 44.438000000000002, 44.701999999999998, 44.920999999999999, 45.093000000000004, 45.228999999999999, 45.347000000000001, 45.475000000000001, 45.637, 45.850999999999999, 46.124000000000002, 46.460000000000001, 46.856999999999999, 47.292000000000002, 47.741, 48.183999999999997, 48.609999999999999, 49.009999999999998, 49.374000000000002, 49.682000000000002, 49.909999999999997, 50.006, 49.915999999999997, 49.630000000000003, 49.164999999999999, 48.558999999999997, 47.880000000000003, 47.216000000000001, 46.646000000000001, 46.234000000000002, 46.008000000000003, 45.973999999999997, 46.106000000000002, 46.341000000000001, 46.622, 46.927999999999997, 47.241999999999997, 47.558999999999997, 47.887999999999998, 48.237000000000002, 48.603999999999999, 48.991999999999997, 49.404000000000003, 49.843000000000004, 50.308999999999997, 50.795999999999999, 51.295999999999999, 51.802999999999997, nan]\n"
       ]
      }
     ],
     "prompt_number": 136
    },
    {
     "cell_type": "code",
     "collapsed": false,
     "input": [
      "for i in life_exp_f_Bur['life_exp_f_bur']:\n",
      "    for j in i:\n",
      "        if math.isnan(j):\n",
      "            print j"
     ],
     "language": "python",
     "metadata": {},
     "outputs": [],
     "prompt_number": 145
    },
    {
     "cell_type": "code",
     "collapsed": false,
     "input": [
      "print life_exp_f_Bur['life_exp_f_bur']"
     ],
     "language": "python",
     "metadata": {},
     "outputs": [
      {
       "ename": "NameError",
       "evalue": "name 'life_exp_f_Bur' is not defined",
       "output_type": "pyerr",
       "traceback": [
        "\u001b[0;31m---------------------------------------------------------------------------\u001b[0m\n\u001b[0;31mNameError\u001b[0m                                 Traceback (most recent call last)",
        "\u001b[0;32m<ipython-input-1-2ba3a00c1d19>\u001b[0m in \u001b[0;36m<module>\u001b[0;34m()\u001b[0m\n\u001b[0;32m----> 1\u001b[0;31m \u001b[0;32mprint\u001b[0m \u001b[0mlife_exp_f_Bur\u001b[0m\u001b[0;34m[\u001b[0m\u001b[0;34m'life_exp_f_bur'\u001b[0m\u001b[0;34m]\u001b[0m\u001b[0;34m\u001b[0m\u001b[0m\n\u001b[0m",
        "\u001b[0;31mNameError\u001b[0m: name 'life_exp_f_Bur' is not defined"
       ]
      }
     ],
     "prompt_number": 1
    },
    {
     "cell_type": "code",
     "collapsed": false,
     "input": [
      "pyplot.hist(life_exp_f_Bur['life_exp_f_bur'])"
     ],
     "language": "python",
     "metadata": {},
     "outputs": [
      {
       "metadata": {},
       "output_type": "pyout",
       "prompt_number": 146,
       "text": [
        "(array([ 3.,  3.,  5.,  7.,  7.,  7.,  5.,  5.,  7.,  2.]),\n",
        " array([ 42.852 ,  43.6964,  44.5408,  45.3852,  46.2296,  47.074 ,\n",
        "        47.9184,  48.7628,  49.6072,  50.4516,  51.296 ]),\n",
        " <a list of 10 Patch objects>)"
       ]
      },
      {
       "metadata": {},
       "output_type": "display_data",
       "png": "[encoded data removed]",
       "text": [
        "<matplotlib.figure.Figure at 0x109f8bbd0>"
       ]
      }
     ],
     "prompt_number": 146
    },
    {
     "cell_type": "code",
     "collapsed": false,
     "input": [
      "plt.plot(life_exp_f_Bur['life_exp_f_bur'])"
     ],
     "language": "python",
     "metadata": {},
     "outputs": [
      {
       "metadata": {},
       "output_type": "pyout",
       "prompt_number": 139,
       "text": [
        "[<matplotlib.lines.Line2D at 0x10a22d310>,\n",
        " <matplotlib.lines.Line2D at 0x10a22d5d0>,\n",
        " <matplotlib.lines.Line2D at 0x10a22d810>,\n",
        " <matplotlib.lines.Line2D at 0x10a22d9d0>,\n",
        " <matplotlib.lines.Line2D at 0x10a22db90>,\n",
        " <matplotlib.lines.Line2D at 0x10a22dd50>,\n",
        " <matplotlib.lines.Line2D at 0x10a22df10>,\n",
        " <matplotlib.lines.Line2D at 0x10a20b690>,\n",
        " <matplotlib.lines.Line2D at 0x10a22e2d0>,\n",
        " <matplotlib.lines.Line2D at 0x10a22e490>,\n",
        " <matplotlib.lines.Line2D at 0x10a22e650>,\n",
        " <matplotlib.lines.Line2D at 0x10a22e810>,\n",
        " <matplotlib.lines.Line2D at 0x10a22e9d0>,\n",
        " <matplotlib.lines.Line2D at 0x10a22eb90>,\n",
        " <matplotlib.lines.Line2D at 0x10a22ed50>,\n",
        " <matplotlib.lines.Line2D at 0x10a22ef10>,\n",
        " <matplotlib.lines.Line2D at 0x10a230110>,\n",
        " <matplotlib.lines.Line2D at 0x10a2302d0>,\n",
        " <matplotlib.lines.Line2D at 0x10a230490>,\n",
        " <matplotlib.lines.Line2D at 0x10a230650>,\n",
        " <matplotlib.lines.Line2D at 0x10a230810>,\n",
        " <matplotlib.lines.Line2D at 0x10a22ed90>,\n",
        " <matplotlib.lines.Line2D at 0x10a230b90>,\n",
        " <matplotlib.lines.Line2D at 0x10a230d50>,\n",
        " <matplotlib.lines.Line2D at 0x10a230f10>,\n",
        " <matplotlib.lines.Line2D at 0x10a233110>,\n",
        " <matplotlib.lines.Line2D at 0x10a2332d0>,\n",
        " <matplotlib.lines.Line2D at 0x10a233490>,\n",
        " <matplotlib.lines.Line2D at 0x10a230a10>,\n",
        " <matplotlib.lines.Line2D at 0x10a233810>,\n",
        " <matplotlib.lines.Line2D at 0x10a2339d0>,\n",
        " <matplotlib.lines.Line2D at 0x10a233b90>,\n",
        " <matplotlib.lines.Line2D at 0x10a233d50>,\n",
        " <matplotlib.lines.Line2D at 0x10a233f10>,\n",
        " <matplotlib.lines.Line2D at 0x10a235110>,\n",
        " <matplotlib.lines.Line2D at 0x10a233690>,\n",
        " <matplotlib.lines.Line2D at 0x10a235490>,\n",
        " <matplotlib.lines.Line2D at 0x10a235650>,\n",
        " <matplotlib.lines.Line2D at 0x10a235810>,\n",
        " <matplotlib.lines.Line2D at 0x10a2359d0>,\n",
        " <matplotlib.lines.Line2D at 0x10a235b90>,\n",
        " <matplotlib.lines.Line2D at 0x10a235d50>,\n",
        " <matplotlib.lines.Line2D at 0x10a235f10>,\n",
        " <matplotlib.lines.Line2D at 0x10a293110>,\n",
        " <matplotlib.lines.Line2D at 0x10a2932d0>,\n",
        " <matplotlib.lines.Line2D at 0x10a293490>,\n",
        " <matplotlib.lines.Line2D at 0x10a293650>,\n",
        " <matplotlib.lines.Line2D at 0x10a293810>,\n",
        " <matplotlib.lines.Line2D at 0x10a2939d0>,\n",
        " <matplotlib.lines.Line2D at 0x10a235f50>,\n",
        " <matplotlib.lines.Line2D at 0x10a293d50>]"
       ]
      },
      {
       "metadata": {},
       "output_type": "display_data",
       "png": "[encoded data removed]",
       "text": [
        "<matplotlib.figure.Figure at 0x10a206dd0>"
       ]
      }
     ],
     "prompt_number": 139
    },
    {
     "cell_type": "heading",
     "level": 4,
     "metadata": {},
     "source": [
      "Old Approach"
     ]
    },
    {
     "cell_type": "raw",
     "metadata": {},
     "source": [
      "While I'm working out dictionary and matplotlib issues in the new approach, I'll use the \"old approach\" to begin looking at Burundi data."
     ]
    },
    {
     "cell_type": "code",
     "collapsed": false,
     "input": [
      "life_exp_f_Bur = []\n",
      "\n",
      "for country in life_exp_f:\n",
      "    if country[0] == \"Burundi\":\n",
      "        for year in country:\n",
      "            life_exp_f_Bur.append(year)"
     ],
     "language": "python",
     "metadata": {},
     "outputs": [],
     "prompt_number": 193
    },
    {
     "cell_type": "code",
     "collapsed": false,
     "input": [
      "life_exp_m_Bur = []\n",
      "\n",
      "for country in life_exp_m:\n",
      "    if country[0] == \"Burundi\":\n",
      "        for year in country:\n",
      "            life_exp_m_Bur.append(year)"
     ],
     "language": "python",
     "metadata": {},
     "outputs": [],
     "prompt_number": 194
    },
    {
     "cell_type": "code",
     "collapsed": false,
     "input": [
      "for text in life_exp_f_Bur[0:4]:\n",
      "    life_exp_f_Bur.remove(text)"
     ],
     "language": "python",
     "metadata": {},
     "outputs": [],
     "prompt_number": 195
    },
    {
     "cell_type": "code",
     "collapsed": false,
     "input": [
      "for text in life_exp_m_Bur[0:4]:\n",
      "    life_exp_m_Bur.remove(text)"
     ],
     "language": "python",
     "metadata": {},
     "outputs": [],
     "prompt_number": 196
    },
    {
     "cell_type": "code",
     "collapsed": false,
     "input": [
      "for value in life_exp_f_Bur:\n",
      "    if math.isnan(value):\n",
      "        life_exp_f_Bur.remove(value)"
     ],
     "language": "python",
     "metadata": {},
     "outputs": [],
     "prompt_number": 197
    },
    {
     "cell_type": "code",
     "collapsed": false,
     "input": [
      "for value in life_exp_m_Bur:\n",
      "    if math.isnan(value):\n",
      "        life_exp_m_Bur.remove(value)"
     ],
     "language": "python",
     "metadata": {},
     "outputs": [],
     "prompt_number": 198
    },
    {
     "cell_type": "code",
     "collapsed": false,
     "input": [
      "pyplot.hist(life_exp_f_Bur)"
     ],
     "language": "python",
     "metadata": {},
     "outputs": [
      {
       "metadata": {},
       "output_type": "pyout",
       "prompt_number": 199,
       "text": [
        "(array([ 3.,  3.,  6.,  8.,  8.,  5.,  6.,  9.,  2.,  2.]),\n",
        " array([ 42.852 ,  43.7471,  44.6422,  45.5373,  46.4324,  47.3275,\n",
        "        48.2226,  49.1177,  50.0128,  50.9079,  51.803 ]),\n",
        " <a list of 10 Patch objects>)"
       ]
      },
      {
       "metadata": {},
       "output_type": "display_data",
       "png": "[encoded data removed]",
       "text": [
        "<matplotlib.figure.Figure at 0x10a60ad90>"
       ]
      }
     ],
     "prompt_number": 199
    },
    {
     "cell_type": "code",
     "collapsed": false,
     "input": [
      "pyplot.hist(life_exp_m_Bur)"
     ],
     "language": "python",
     "metadata": {},
     "outputs": [
      {
       "metadata": {},
       "output_type": "pyout",
       "prompt_number": 201,
       "text": [
        "(array([ 3.,  4.,  6.,  6.,  7.,  8.,  7.,  6.,  2.,  3.]),\n",
        " array([ 39.698 ,  40.6223,  41.5466,  42.4709,  43.3952,  44.3195,\n",
        "        45.2438,  46.1681,  47.0924,  48.0167,  48.941 ]),\n",
        " <a list of 10 Patch objects>)"
       ]
      },
      {
       "metadata": {},
       "output_type": "display_data",
       "png": "[encoded data removed]",
       "text": [
        "<matplotlib.figure.Figure at 0x10a6214d0>"
       ]
      }
     ],
     "prompt_number": 201
    },
    {
     "cell_type": "code",
     "collapsed": false,
     "input": [
      "plt.plot(life_exp_f_Bur)\n",
      "plt.plot(life_exp_m_Bur)"
     ],
     "language": "python",
     "metadata": {},
     "outputs": [
      {
       "metadata": {},
       "output_type": "pyout",
       "prompt_number": 232,
       "text": [
        "[<matplotlib.lines.Line2D at 0x10acfea50>]"
       ]
      },
      {
       "metadata": {},
       "output_type": "display_data",
       "png": "[encoded data removed]",
       "text": [
        "<matplotlib.figure.Figure at 0x10ac89bd0>"
       ]
      }
     ],
     "prompt_number": 232
    },
    {
     "cell_type": "heading",
     "level": 2,
     "metadata": {},
     "source": [
      "Rwanda"
     ]
    },
    {
     "cell_type": "code",
     "collapsed": false,
     "input": [
      "# arrays for country-specific year-by-year data\n",
      "life_exp_f_Rwa = []\n",
      "life_exp_m_Rwa = []\n",
      "\n",
      "# put country-specific data in arrays\n",
      "for country in life_exp_f:\n",
      "    if country[0] == \"Rwanda\":\n",
      "        for year in country:\n",
      "            life_exp_f_Rwa.append(year)\n",
      "\n",
      "for country in life_exp_m:\n",
      "    if country[0] == \"Rwanda\":\n",
      "        for year in country:\n",
      "            life_exp_m_Rwa.append(year)\n",
      "\n",
      "# remove the first three fields containing text descriptions (to make plotting possible)\n",
      "for text in life_exp_f_Rwa[0:4]:\n",
      "    life_exp_f_Rwa.remove(text)\n",
      "    \n",
      "for text in life_exp_m_Rwa[0:4]:\n",
      "    life_exp_m_Rwa.remove(text)\n",
      "\n",
      "# remove non-numeric (nan) values: generated by empty fields (missing data)    \n",
      "for value in life_exp_f_Rwa:\n",
      "    if math.isnan(value):\n",
      "        life_exp_f_Rwa.remove(value)\n",
      "        \n",
      "for value in life_exp_m_Rwa:\n",
      "    if math.isnan(value):\n",
      "        life_exp_m_Rwa.remove(value)"
     ],
     "language": "python",
     "metadata": {},
     "outputs": [],
     "prompt_number": 203
    },
    {
     "cell_type": "code",
     "collapsed": false,
     "input": [
      "pyplot.hist(life_exp_f_Rwa)"
     ],
     "language": "python",
     "metadata": {},
     "outputs": [
      {
       "metadata": {},
       "output_type": "pyout",
       "prompt_number": 230,
       "text": [
        "(array([  4.,   1.,   2.,   2.,   1.,   9.,  14.,   7.,   6.,   6.]),\n",
        " array([ 28.532 ,  31.3523,  34.1726,  36.9929,  39.8132,  42.6335,\n",
        "        45.4538,  48.2741,  51.0944,  53.9147,  56.735 ]),\n",
        " <a list of 10 Patch objects>)"
       ]
      },
      {
       "metadata": {},
       "output_type": "display_data",
       "png": "[encoded data removed]",
       "text": [
        "<matplotlib.figure.Figure at 0x10ac5e450>"
       ]
      }
     ],
     "prompt_number": 230
    },
    {
     "cell_type": "code",
     "collapsed": false,
     "input": [
      "pyplot.hist(life_exp_m_Rwa)"
     ],
     "language": "python",
     "metadata": {},
     "outputs": [
      {
       "metadata": {},
       "output_type": "pyout",
       "prompt_number": 229,
       "text": [
        "(array([  4.,   1.,   2.,   2.,   1.,  10.,  12.,   8.,   6.,   6.]),\n",
        " array([ 25.187 ,  28.0801,  30.9732,  33.8663,  36.7594,  39.6525,\n",
        "        42.5456,  45.4387,  48.3318,  51.2249,  54.118 ]),\n",
        " <a list of 10 Patch objects>)"
       ]
      },
      {
       "metadata": {},
       "output_type": "display_data",
       "png": "[encoded data removed]",
       "text": [
        "<matplotlib.figure.Figure at 0x10abb1a10>"
       ]
      }
     ],
     "prompt_number": 229
    },
    {
     "cell_type": "code",
     "collapsed": false,
     "input": [
      "plt.plot(life_exp_f_Rwa)\n",
      "plt.plot(life_exp_m_Rwa)"
     ],
     "language": "python",
     "metadata": {},
     "outputs": [
      {
       "metadata": {},
       "output_type": "pyout",
       "prompt_number": 231,
       "text": [
        "[<matplotlib.lines.Line2D at 0x10ac79b10>]"
       ]
      },
      {
       "metadata": {},
       "output_type": "display_data",
       "png": "[encoded data removed]",
       "text": [
        "<matplotlib.figure.Figure at 0x10ad0efd0>"
       ]
      }
     ],
     "prompt_number": 231
    },
    {
     "cell_type": "heading",
     "level": 2,
     "metadata": {},
     "source": [
      "Democratic Republic of Congo"
     ]
    },
    {
     "cell_type": "code",
     "collapsed": false,
     "input": [
      "#Congo, Dem. Rep.\n",
      "\n",
      "# arrays for country-specific year-by-year data\n",
      "life_exp_f_DRC = []\n",
      "life_exp_m_DRC = []\n",
      "\n",
      "# put country-specific data in arrays\n",
      "for country in life_exp_f:\n",
      "    if country[0] == \"Congo, Dem. Rep.\":\n",
      "        for year in country:\n",
      "            life_exp_f_DRC.append(year)\n",
      "\n",
      "for country in life_exp_m:\n",
      "    if country[0] == \"Congo, Dem. Rep.\":\n",
      "        for year in country:\n",
      "            life_exp_m_DRC.append(year)\n",
      "\n",
      "# remove the first three fields containing text descriptions (to make plotting possible)\n",
      "for text in life_exp_f_DRC[0:4]:\n",
      "    life_exp_f_DRC.remove(text)\n",
      "    \n",
      "for text in life_exp_m_DRC[0:4]:\n",
      "    life_exp_m_DRC.remove(text)\n",
      "\n",
      "# remove non-numeric (nan) values: generated by empty fields (missing data)    \n",
      "for value in life_exp_f_DRC:\n",
      "    if math.isnan(value):\n",
      "        life_exp_f_DRC.remove(value)\n",
      "        \n",
      "for value in life_exp_m_DRC:\n",
      "    if math.isnan(value):\n",
      "        life_exp_m_DRC.remove(value)\n"
     ],
     "language": "python",
     "metadata": {},
     "outputs": [],
     "prompt_number": 225
    },
    {
     "cell_type": "code",
     "collapsed": false,
     "input": [
      "pyplot.hist(life_exp_f_DRC)\n",
      "pyplot.hist(life_exp_m_DRC)"
     ],
     "language": "python",
     "metadata": {},
     "outputs": [
      {
       "metadata": {},
       "output_type": "pyout",
       "prompt_number": 226,
       "text": [
        "(array([  4.,   2.,   3.,   2.,   2.,   4.,  11.,  12.,   8.,   4.]),\n",
        " array([ 39.64  ,  40.3562,  41.0724,  41.7886,  42.5048,  43.221 ,\n",
        "        43.9372,  44.6534,  45.3696,  46.0858,  46.802 ]),\n",
        " <a list of 10 Patch objects>)"
       ]
      },
      {
       "metadata": {},
       "output_type": "display_data",
       "png": "[encoded data removed]",
       "text": [
        "<matplotlib.figure.Figure at 0x10aa22190>"
       ]
      }
     ],
     "prompt_number": 226
    },
    {
     "cell_type": "code",
     "collapsed": false,
     "input": [
      "plt.plot(life_exp_f_DRC)\n",
      "plt.plot(life_exp_m_DRC)"
     ],
     "language": "python",
     "metadata": {},
     "outputs": [
      {
       "metadata": {},
       "output_type": "pyout",
       "prompt_number": 227,
       "text": [
        "[<matplotlib.lines.Line2D at 0x10a962f10>]"
       ]
      },
      {
       "metadata": {},
       "output_type": "display_data",
       "png": "[encoded data removed]",
       "text": [
        "<matplotlib.figure.Figure at 0x10a2ddc50>"
       ]
      }
     ],
     "prompt_number": 227
    },
    {
     "cell_type": "code",
     "collapsed": false,
     "input": [],
     "language": "python",
     "metadata": {},
     "outputs": []
    }
   ],
   "metadata": {}
  }
 ]
}