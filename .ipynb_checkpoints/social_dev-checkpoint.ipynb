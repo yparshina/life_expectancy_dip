{
 "metadata": {
  "name": ""
 },
 "nbformat": 3,
 "nbformat_minor": 0,
 "worksheets": [
  {
   "cells": [
    {
     "cell_type": "code",
     "collapsed": false,
     "input": [
      "\n",
      "social_dev = mlab.csv2rec(\"data/social_dev_1.csv\")"
     ],
     "language": "python",
     "metadata": {},
     "outputs": [],
     "prompt_number": 8
    },
    {
     "cell_type": "raw",
     "metadata": {},
     "source": [
      "Each country has 29 data points tracked between 1960 and 2012"
     ]
    },
    {
     "cell_type": "code",
     "collapsed": false,
     "input": [
      "for country in social_dev:\n",
      "    if country[0] == \"Greece\":\n",
      "        print country[2]"
     ],
     "language": "python",
     "metadata": {},
     "outputs": [
      {
       "output_type": "stream",
       "stream": "stdout",
       "text": [
        "Ratio of young literate females to males (% ages 15-24)\n",
        "Ratio of female to male primary enrollment (%)\n",
        "Ratio of girls to boys in primary and secondary education (%)\n",
        "Ratio of female to male secondary enrollment (%)\n",
        "Ratio of female to male tertiary enrollment (%)\n",
        "Proportion of seats held by women in national parliaments (%)\n",
        "Prevalence of HIV, female (% ages 15-24)\n",
        "Prevalence of HIV, male (% ages 15-24)\n",
        "Share of women employed in the nonagricultural sector (% of total nonagricultural employment)\n",
        "Vulnerable employment, female (% of female employment)\n",
        "Vulnerable employment, male (% of male employment)\n",
        "Children in employment, female (% of female children ages 7-14)\n",
        "Children in employment, male (% of male children ages 7-14)\n",
        "Children in employment, study and work, female (% of female children in employment, ages 7-14)\n",
        "Children in employment, study and work, male (% of male children in employment, ages 7-14)\n",
        "Children in employment, study and work (% of children in employment, ages 7-14)\n",
        "Children in employment, work only, female (% of female children in employment, ages 7-14)\n",
        "Children in employment, work only, male (% of male children in employment, ages 7-14)\n",
        "Children in employment, work only (% of children in employment, ages 7-14)\n",
        "Children in employment, total (% of children ages 7-14)\n",
        "Labor participation rate, female (% of female population ages 15+)\n",
        "Labor participation rate, male (% of male population ages 15+)\n",
        "Unemployment, female (% of female labor force)\n",
        "Unemployment, male (% of male labor force)\n",
        "Refugee population by country or territory of asylum\n",
        "Refugee population by country or territory of origin\n",
        "Adolescent fertility rate (births per 1,000 women ages 15-19)\n",
        "Life expectancy at birth, female (years)\n",
        "Life expectancy at birth, male (years)\n"
       ]
      }
     ],
     "prompt_number": 9
    },
    {
     "cell_type": "code",
     "collapsed": false,
     "input": [
      "# 27 = female life expectancy at birth\n",
      "# 28 = male life expectancy at birth\n",
      "\n",
      "life_exp_f = []\n",
      "life_exp_m = []\n",
      "\n",
      "\n",
      "recNum_f = 27\n",
      "recNum_m = 28\n",
      "\n",
      "for i in range(27,7309):\n",
      "    if i == recNum_f:\n",
      "        life_exp_f.append(social_dev[i])\n",
      "        recNum_f += 29\n",
      "    \n",
      "    if i == recNum_m:\n",
      "        life_exp_m.append(social_dev[i])\n",
      "        recNum_m += 29"
     ],
     "language": "python",
     "metadata": {},
     "outputs": [],
     "prompt_number": 10
    },
    {
     "cell_type": "code",
     "collapsed": false,
     "input": [
      "# Which countries are missing data in a particular year (55 = 2011)\n",
      "for j in life_exp_f:\n",
      "    if math.isnan(j[55]):\n",
      "        print j[0]"
     ],
     "language": "python",
     "metadata": {},
     "outputs": [
      {
       "output_type": "stream",
       "stream": "stdout",
       "text": [
        "East Asia and the Pacific (IFC classification)\n",
        "Europe and Central Asia (IFC classification)\n",
        "Latin America and the Caribbean (IFC classification)\n",
        "Middle East and North Africa (IFC classification)\n",
        "Not classified\n",
        "South Asia (IFC classification)\n",
        "Sub-Saharan Africa (IFC classification)\n",
        "American Samoa\n",
        "Andorra\n",
        "Antigua and Barbuda\n",
        "Cayman Islands\n",
        "Curacao\n",
        "Dominica\n",
        "Georgia\n",
        "Greenland\n",
        "Isle of Man\n",
        "Kiribati\n",
        "Liechtenstein\n",
        "Marshall Islands\n",
        "Monaco\n",
        "Northern Mariana Islands\n",
        "Palau\n",
        "Sint Maarten (Dutch part)\n",
        "South Sudan\n",
        "St. Kitts and Nevis\n",
        "St. Martin (French part)\n",
        "Turks and Caicos Islands\n",
        "Tuvalu\n"
       ]
      }
     ],
     "prompt_number": 11
    },
    {
     "cell_type": "raw",
     "metadata": {},
     "source": [
      "Question: \n",
      "- How to deal with missing data?\n",
      "- Is there a year when all data is present?\n",
      "- Should countries that don't have data be disqualified from the graph?"
     ]
    },
    {
     "cell_type": "raw",
     "metadata": {},
     "source": [
      "Years: 1960 - 2012\n",
      "Columns: 4 - 56"
     ]
    },
    {
     "cell_type": "code",
     "collapsed": false,
     "input": [
      "# Group female life expectancy data from all countries \n",
      "# in a particular year (2011) into an array\n",
      "# and ake out countries with missing data\n",
      "\n",
      "life_exp_f_2011 = []\n",
      "life_exp_m_2011 = []\n",
      "\n",
      "for j in life_exp_f:\n",
      "    if not math.isnan(j[55]):\n",
      "        life_exp_f_2011.append(j[55])\n",
      "        \n",
      "for k in life_exp_m:\n",
      "    if not math.isnan(k[55]):\n",
      "        life_exp_m_2011.append(k[55])"
     ],
     "language": "python",
     "metadata": {},
     "outputs": [],
     "prompt_number": 12
    },
    {
     "cell_type": "code",
     "collapsed": false,
     "input": [
      "n, bins, patches = pyplot.hist(life_exp_f_2011)"
     ],
     "language": "python",
     "metadata": {},
     "outputs": [
      {
       "metadata": {},
       "output_type": "display_data",
       "png": "[encoded data removed]",
       "text": [
        "<matplotlib.figure.Figure at 0x1109bd210>"
       ]
      }
     ],
     "prompt_number": 13
    },
    {
     "cell_type": "code",
     "collapsed": false,
     "input": [],
     "language": "python",
     "metadata": {},
     "outputs": [],
     "prompt_number": 13
    },
    {
     "cell_type": "raw",
     "metadata": {},
     "source": [
      "Analysis: Most countries have a female life expectancy between 75 and 80 (is this correct???)\n",
      "\n",
      "Questions:\n",
      "- Is age on the X or Y axis? (Print min/max and average to double-check)\n",
      "Answer: \n",
      "- X = age"
     ]
    },
    {
     "cell_type": "code",
     "collapsed": false,
     "input": [
      "n, bins, patches = pyplot.hist(life_exp_m_2011)"
     ],
     "language": "python",
     "metadata": {},
     "outputs": [
      {
       "metadata": {},
       "output_type": "display_data",
       "png": "[encoded data removed]",
       "text": [
        "<matplotlib.figure.Figure at 0x1109bd090>"
       ]
      }
     ],
     "prompt_number": 14
    },
    {
     "cell_type": "code",
     "collapsed": false,
     "input": [],
     "language": "python",
     "metadata": {},
     "outputs": [],
     "prompt_number": 14
    },
    {
     "cell_type": "raw",
     "metadata": {},
     "source": [
      "Analysis: Most countries have a male life expectancy between 70 and 75\n",
      "\n",
      "Questions: \n",
      "- Why do results for men look less even? \n",
      "- Is data present/missing for men and women in the same years for the same country? (Probably)"
     ]
    },
    {
     "cell_type": "raw",
     "metadata": {},
     "source": [
      "Tasks: \n",
      "1) Look at mean, median, min/max values to better understand the data\n",
      "2) Get country names for each \"bucket\" (the life_exp_f_2011 array no longer has country names\u2014go back to the life_exp_f array to extract info)"
     ]
    },
    {
     "cell_type": "code",
     "collapsed": false,
     "input": [
      "median(life_exp_f_2011)"
     ],
     "language": "python",
     "metadata": {},
     "outputs": [
      {
       "metadata": {},
       "output_type": "pyout",
       "prompt_number": 15,
       "text": [
        "75.388802861699702"
       ]
      }
     ],
     "prompt_number": 15
    },
    {
     "cell_type": "code",
     "collapsed": false,
     "input": [
      "# Countries with female life expectancy less than 50 years\n",
      "for l in life_exp_f:\n",
      "    if not math.isnan(j[55]):\n",
      "        if l[55] < 50:\n",
      "            print l[0]"
     ],
     "language": "python",
     "metadata": {},
     "outputs": [
      {
       "output_type": "stream",
       "stream": "stdout",
       "text": [
        "Afghanistan\n",
        "Guinea-Bissau\n",
        "Lesotho\n",
        "Sierra Leone\n",
        "Swaziland\n",
        "Zambia\n"
       ]
      }
     ],
     "prompt_number": 16
    },
    {
     "cell_type": "code",
     "collapsed": false,
     "input": [
      "# Countries with male life expectancy less than 50 years\n",
      "for l in life_exp_m:\n",
      "    if not math.isnan(j[55]):\n",
      "        if l[55] < 50:\n",
      "            print l[0]"
     ],
     "language": "python",
     "metadata": {},
     "outputs": [
      {
       "output_type": "stream",
       "stream": "stdout",
       "text": [
        "Afghanistan\n",
        "Angola\n",
        "Burundi\n",
        "Central African Republic\n",
        "Chad\n",
        "Congo, Dem. Rep.\n",
        "Equatorial Guinea\n",
        "Guinea-Bissau\n",
        "Lesotho\n",
        "Mozambique\n",
        "Sierra Leone\n",
        "Somalia\n",
        "Swaziland\n",
        "Zambia\n"
       ]
      }
     ],
     "prompt_number": 61
    },
    {
     "cell_type": "code",
     "collapsed": false,
     "input": [
      "min(life_exp_m)"
     ],
     "language": "python",
     "metadata": {},
     "outputs": [
      {
       "metadata": {},
       "output_type": "pyout",
       "prompt_number": 20,
       "text": [
        "('Luxembourg', 'LUX', 'Life expectancy at birth, male (years)', 'SP.DYN.LE00.MA.IN', 65.284, 65.556, 65.8, 66.012, 66.187, 66.324, 66.422, 66.49, 66.538, 66.576, 66.618, 66.674, 66.751, 66.858, 66.999, 67.179, 67.401, 67.657, 67.938, 68.24, 68.551, 68.865, 69.174, 69.475, 69.764, 70.046, 70.324, 70.607, 70.899, 71.199, 71.505, 72.0, 72.6, 72.2, 73.2, 73.0, 73.3, 74.1, 73.7, 74.6, 74.8, 74.8, 74.6, 74.8, 76.0, 76.7, 76.8, 76.7, 78.1, 78.1, 77.9, 78.5, nan)"
       ]
      }
     ],
     "prompt_number": 20
    },
    {
     "cell_type": "code",
     "collapsed": false,
     "input": [
      "min(life_exp_f)"
     ],
     "language": "python",
     "metadata": {},
     "outputs": [
      {
       "metadata": {},
       "output_type": "pyout",
       "prompt_number": 72,
       "text": [
        "('Macao SAR, China', 'MAC', 'Life expectancy at birth, female (years)', 'SP.DYN.LE00.FE.IN', 66.834, 67.385, 67.923, 68.448, 68.959, 69.457, 69.94, 70.409, 70.867, 71.311, 71.745, 72.167, 72.578, 72.979, 73.37, 73.752, 74.125, 74.489, 74.844, 75.192, 75.531, 75.863, 76.187, 76.504, 76.813, 77.116, 77.413, 77.703, 77.986, 78.264, 78.537, 78.804, 79.066, 79.323, 79.575, 79.823, 80.067, 80.306, 80.54, 80.77, 80.995, 81.214, 81.427, 81.635, 81.841, 82.049, 82.266, 82.493, 82.731, 82.976, 83.219, 83.451, nan)"
       ]
      }
     ],
     "prompt_number": 72
    },
    {
     "cell_type": "raw",
     "metadata": {},
     "source": [
      "Question: What is the min actually calculating in this case? Is it adding up all the numerical values and dividing them by the number of fields? Need to know in order to understand results \n",
      "\n",
      "Potential solution: To better understand the mean/median min and max values of of all countries, create an array of just years for each country\n",
      "\n",
      "Technical question: Is there a way to create a loop that auto-generates arrays from each record in the life_exp array and names them using a field in the record (three letter acronym in field 1?)\n"
     ]
    },
    {
     "cell_type": "heading",
     "level": 1,
     "metadata": {},
     "source": [
      "Life Expectancy in Afganistan"
     ]
    },
    {
     "cell_type": "code",
     "collapsed": false,
     "input": [
      "life_exp_f_Afg = []\n",
      "\n",
      "for country in life_exp_f:\n",
      "    if country[0] == \"Afghanistan\":\n",
      "        for year in country:\n",
      "            life_exp_f_Afg.append(year)"
     ],
     "language": "python",
     "metadata": {},
     "outputs": [],
     "prompt_number": 155
    },
    {
     "cell_type": "code",
     "collapsed": false,
     "input": [
      "life_exp_m_Afg = []\n",
      "for country in life_exp_m:\n",
      "    if country[0] == \"Afghanistan\":\n",
      "        for year in country:\n",
      "            life_exp_m_Afg.append(year)"
     ],
     "language": "python",
     "metadata": {},
     "outputs": [],
     "prompt_number": 156
    },
    {
     "cell_type": "code",
     "collapsed": false,
     "input": [
      "# this is a very poor solution\n",
      "# very time I run this, I am deleting fields 0 - 4.\n",
      "# Running it more than once will delete years.\n",
      "for text in life_exp_f_Afg[0:4]:\n",
      "    life_exp_f_Afg.remove(text)"
     ],
     "language": "python",
     "metadata": {},
     "outputs": [],
     "prompt_number": 158
    },
    {
     "cell_type": "code",
     "collapsed": false,
     "input": [
      "for text in life_exp_m_Afg[0:4]:\n",
      "    life_exp_m_Afg.remove(text)"
     ],
     "language": "python",
     "metadata": {},
     "outputs": [],
     "prompt_number": 159
    },
    {
     "cell_type": "code",
     "collapsed": false,
     "input": [
      "for value in life_exp_f_Afg:\n",
      "    if math.isnan(value):\n",
      "        life_exp_f_Afg.remove(value)"
     ],
     "language": "python",
     "metadata": {},
     "outputs": [],
     "prompt_number": 161
    },
    {
     "cell_type": "code",
     "collapsed": false,
     "input": [
      "for value in life_exp_m_Afg:\n",
      "    if math.isnan(value):\n",
      "        life_exp_m_Afg.remove(value)"
     ],
     "language": "python",
     "metadata": {},
     "outputs": [],
     "prompt_number": 162
    },
    {
     "cell_type": "code",
     "collapsed": false,
     "input": [
      "n, bins, patches = pyplot.hist(life_exp_f_Afg)"
     ],
     "language": "python",
     "metadata": {},
     "outputs": [
      {
       "metadata": {},
       "output_type": "display_data",
       "png": "[encoded data removed]",
       "text": [
        "<matplotlib.figure.Figure at 0x1109bd110>"
       ]
      }
     ],
     "prompt_number": 163
    },
    {
     "cell_type": "code",
     "collapsed": false,
     "input": [
      "plt.plot(life_exp_f_Afg)"
     ],
     "language": "python",
     "metadata": {},
     "outputs": [
      {
       "metadata": {},
       "output_type": "pyout",
       "prompt_number": 164,
       "text": [
        "[<matplotlib.lines.Line2D at 0x110b0cc90>]"
       ]
      },
      {
       "metadata": {},
       "output_type": "display_data",
       "png": "[encoded data removed]",
       "text": [
        "<matplotlib.figure.Figure at 0x110b37d90>"
       ]
      }
     ],
     "prompt_number": 164
    },
    {
     "cell_type": "code",
     "collapsed": false,
     "input": [
      "min(life_exp_f_Afg)"
     ],
     "language": "python",
     "metadata": {},
     "outputs": [
      {
       "metadata": {},
       "output_type": "pyout",
       "prompt_number": 165,
       "text": [
        "30.812999999999999"
       ]
      }
     ],
     "prompt_number": 165
    },
    {
     "cell_type": "code",
     "collapsed": false,
     "input": [
      "median(life_exp_f_Afg)"
     ],
     "language": "python",
     "metadata": {},
     "outputs": [
      {
       "metadata": {},
       "output_type": "pyout",
       "prompt_number": 166,
       "text": [
        "40.760499999999993"
       ]
      }
     ],
     "prompt_number": 166
    },
    {
     "cell_type": "code",
     "collapsed": false,
     "input": [
      "max(life_exp_f_Afg)"
     ],
     "language": "python",
     "metadata": {},
     "outputs": [
      {
       "metadata": {},
       "output_type": "pyout",
       "prompt_number": 167,
       "text": [
        "48.844999999999999"
       ]
      }
     ],
     "prompt_number": 167
    },
    {
     "cell_type": "code",
     "collapsed": false,
     "input": [
      "n, bins, patches = pyplot.hist(life_exp_m_Afg)"
     ],
     "language": "python",
     "metadata": {},
     "outputs": [
      {
       "metadata": {},
       "output_type": "display_data",
       "png": "[encoded data removed]",
       "text": [
        "<matplotlib.figure.Figure at 0x1109c9690>"
       ]
      }
     ],
     "prompt_number": 168
    },
    {
     "cell_type": "code",
     "collapsed": false,
     "input": [
      "plt.plot(life_exp_m_Afg)"
     ],
     "language": "python",
     "metadata": {},
     "outputs": [
      {
       "metadata": {},
       "output_type": "pyout",
       "prompt_number": 169,
       "text": [
        "[<matplotlib.lines.Line2D at 0x111316590>]"
       ]
      },
      {
       "metadata": {},
       "output_type": "display_data",
       "png": "[encoded data removed]",
       "text": [
        "<matplotlib.figure.Figure at 0x110b64c10>"
       ]
      }
     ],
     "prompt_number": 169
    },
    {
     "cell_type": "code",
     "collapsed": false,
     "input": [
      "min(life_exp_m_Afg)"
     ],
     "language": "python",
     "metadata": {},
     "outputs": [
      {
       "metadata": {},
       "output_type": "pyout",
       "prompt_number": 170,
       "text": [
        "31.436"
       ]
      }
     ],
     "prompt_number": 170
    },
    {
     "cell_type": "code",
     "collapsed": false,
     "input": [
      "median(life_exp_m_Afg)"
     ],
     "language": "python",
     "metadata": {},
     "outputs": [
      {
       "metadata": {},
       "output_type": "pyout",
       "prompt_number": 171,
       "text": [
        "41.087000000000003"
       ]
      }
     ],
     "prompt_number": 171
    },
    {
     "cell_type": "code",
     "collapsed": false,
     "input": [
      "max(life_exp_m_Afg)"
     ],
     "language": "python",
     "metadata": {},
     "outputs": [
      {
       "metadata": {},
       "output_type": "pyout",
       "prompt_number": 172,
       "text": [
        "48.524000000000001"
       ]
      }
     ],
     "prompt_number": 172
    },
    {
     "cell_type": "code",
     "collapsed": false,
     "input": [],
     "language": "python",
     "metadata": {},
     "outputs": [],
     "prompt_number": 172
    }
   ],
   "metadata": {}
  }
 ]
}