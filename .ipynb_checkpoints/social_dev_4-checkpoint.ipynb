{
 "metadata": {
  "name": ""
 },
 "nbformat": 3,
 "nbformat_minor": 0,
 "worksheets": [
  {
   "cells": [
    {
     "cell_type": "code",
     "collapsed": false,
     "input": [
      "\n",
      "social_dev = mlab.csv2rec(\"data/social_dev_1.csv\")"
     ],
     "language": "python",
     "metadata": {},
     "outputs": [],
     "prompt_number": 3
    },
    {
     "cell_type": "raw",
     "metadata": {},
     "source": [
      "The dataset comes from the World Bank: http://data.worldbank.org/topic/social-development"
     ]
    },
    {
     "cell_type": "heading",
     "level": 1,
     "metadata": {},
     "source": [
      "Data Categories"
     ]
    },
    {
     "cell_type": "raw",
     "metadata": {},
     "source": [
      "There are 29 categories of data for each country in the dataset."
     ]
    },
    {
     "cell_type": "code",
     "collapsed": false,
     "input": [
      "for country in social_dev:\n",
      "    if country[0] == \"Greece\":\n",
      "        print country[2]"
     ],
     "language": "python",
     "metadata": {},
     "outputs": [
      {
       "output_type": "stream",
       "stream": "stdout",
       "text": [
        "Ratio of young literate females to males (% ages 15-24)\n",
        "Ratio of female to male primary enrollment (%)\n",
        "Ratio of girls to boys in primary and secondary education (%)\n",
        "Ratio of female to male secondary enrollment (%)\n",
        "Ratio of female to male tertiary enrollment (%)\n",
        "Proportion of seats held by women in national parliaments (%)\n",
        "Prevalence of HIV, female (% ages 15-24)\n",
        "Prevalence of HIV, male (% ages 15-24)\n",
        "Share of women employed in the nonagricultural sector (% of total nonagricultural employment)\n",
        "Vulnerable employment, female (% of female employment)\n",
        "Vulnerable employment, male (% of male employment)\n",
        "Children in employment, female (% of female children ages 7-14)\n",
        "Children in employment, male (% of male children ages 7-14)\n",
        "Children in employment, study and work, female (% of female children in employment, ages 7-14)\n",
        "Children in employment, study and work, male (% of male children in employment, ages 7-14)\n",
        "Children in employment, study and work (% of children in employment, ages 7-14)\n",
        "Children in employment, work only, female (% of female children in employment, ages 7-14)\n",
        "Children in employment, work only, male (% of male children in employment, ages 7-14)\n",
        "Children in employment, work only (% of children in employment, ages 7-14)\n",
        "Children in employment, total (% of children ages 7-14)\n",
        "Labor participation rate, female (% of female population ages 15+)\n",
        "Labor participation rate, male (% of male population ages 15+)\n",
        "Unemployment, female (% of female labor force)\n",
        "Unemployment, male (% of male labor force)\n",
        "Refugee population by country or territory of asylum\n",
        "Refugee population by country or territory of origin\n",
        "Adolescent fertility rate (births per 1,000 women ages 15-19)\n",
        "Life expectancy at birth, female (years)\n",
        "Life expectancy at birth, male (years)\n"
       ]
      }
     ],
     "prompt_number": 5
    },
    {
     "cell_type": "heading",
     "level": 1,
     "metadata": {},
     "source": [
      "Life Expectancy"
     ]
    },
    {
     "cell_type": "raw",
     "metadata": {},
     "source": [
      "27 = female life expectancy at birth\n",
      "28 = male life expectancy at birth\n"
     ]
    },
    {
     "cell_type": "code",
     "collapsed": false,
     "input": [
      "life_exp_f = []\n",
      "life_exp_m = []\n",
      "\n",
      "\n",
      "recNum_f = 27\n",
      "recNum_m = 28\n",
      "\n",
      "for i in range(27,7309):\n",
      "    if i == recNum_f:\n",
      "        life_exp_f.append(social_dev[i])\n",
      "        recNum_f += 29\n",
      "    \n",
      "    if i == recNum_m:\n",
      "        life_exp_m.append(social_dev[i])\n",
      "        recNum_m += 29"
     ],
     "language": "python",
     "metadata": {},
     "outputs": [],
     "prompt_number": 48
    },
    {
     "cell_type": "code",
     "collapsed": false,
     "input": [
      "# Which countries are missing data in a particular year (4 = 2011)\n",
      "for j in life_exp_f:\n",
      "    if math.isnan(j[55]):\n",
      "        print j[0]"
     ],
     "language": "python",
     "metadata": {},
     "outputs": [
      {
       "output_type": "stream",
       "stream": "stdout",
       "text": [
        "East Asia and the Pacific (IFC classification)\n",
        "Europe and Central Asia (IFC classification)\n",
        "Latin America and the Caribbean (IFC classification)\n",
        "Middle East and North Africa (IFC classification)\n",
        "Not classified\n",
        "South Asia (IFC classification)\n",
        "Sub-Saharan Africa (IFC classification)\n",
        "American Samoa\n",
        "Andorra\n",
        "Antigua and Barbuda\n",
        "Cayman Islands\n",
        "Curacao\n",
        "Dominica\n",
        "Georgia\n",
        "Greenland\n",
        "Isle of Man\n",
        "Kiribati\n",
        "Liechtenstein\n",
        "Marshall Islands\n",
        "Monaco\n",
        "Northern Mariana Islands\n",
        "Palau\n",
        "Sint Maarten (Dutch part)\n",
        "South Sudan\n",
        "St. Kitts and Nevis\n",
        "St. Martin (French part)\n",
        "Turks and Caicos Islands\n",
        "Tuvalu\n"
       ]
      }
     ],
     "prompt_number": 49
    },
    {
     "cell_type": "raw",
     "metadata": {},
     "source": [
      "Question: \n",
      "- How to deal with missing data?\n",
      "Answer: \n",
      "option 1: fill in data by predicting the missing value based on surrounding values\u2014manually or via code. Works for data with a consistent curve.\n",
      "option 2: delete data (what I've been doing)"
     ]
    },
    {
     "cell_type": "heading",
     "level": 1,
     "metadata": {},
     "source": [
      "Country Names"
     ]
    },
    {
     "cell_type": "code",
     "collapsed": false,
     "input": [
      "for country in life_exp_f:\n",
      "    print country[0]"
     ],
     "language": "python",
     "metadata": {},
     "outputs": [
      {
       "output_type": "stream",
       "stream": "stdout",
       "text": [
        "Arab World\n",
        "Caribbean small states\n",
        "East Asia & Pacific (all income levels)\n",
        "East Asia & Pacific (developing only)\n",
        "East Asia and the Pacific (IFC classification)\n",
        "Euro area\n",
        "Europe & Central Asia (all income levels)\n",
        "Europe & Central Asia (developing only)\n",
        "Europe and Central Asia (IFC classification)\n",
        "European Union\n",
        "Heavily indebted poor countries (HIPC)\n",
        "High income\n",
        "High income: nonOECD\n",
        "High income: OECD\n",
        "Latin America & Caribbean (all income levels)\n",
        "Latin America & Caribbean (developing only)\n",
        "Latin America and the Caribbean (IFC classification)\n",
        "Least developed countries: UN classification\n",
        "Low & middle income\n",
        "Low income\n",
        "Lower middle income\n",
        "Middle East & North Africa (all income levels)\n",
        "Middle East & North Africa (developing only)\n",
        "Middle East and North Africa (IFC classification)\n",
        "Middle income\n",
        "North America\n",
        "Not classified\n",
        "OECD members\n",
        "Other small states\n",
        "Pacific island small states\n",
        "Small states\n",
        "South Asia\n",
        "South Asia (IFC classification)\n",
        "Sub-Saharan Africa (all income levels)\n",
        "Sub-Saharan Africa (developing only)\n",
        "Sub-Saharan Africa (IFC classification)\n",
        "Upper middle income\n",
        "World\n",
        "Afghanistan\n",
        "Albania\n",
        "Algeria\n",
        "American Samoa\n",
        "Andorra\n",
        "Angola\n",
        "Antigua and Barbuda\n",
        "Argentina\n",
        "Armenia\n",
        "Aruba\n",
        "Australia\n",
        "Austria\n",
        "Azerbaijan\n",
        "Bahamas, The\n",
        "Bahrain\n",
        "Bangladesh\n",
        "Barbados\n",
        "Belarus\n",
        "Belgium\n",
        "Belize\n",
        "Benin\n",
        "Bermuda\n",
        "Bhutan\n",
        "Bolivia\n",
        "Bosnia and Herzegovina\n",
        "Botswana\n",
        "Brazil\n",
        "Brunei Darussalam\n",
        "Bulgaria\n",
        "Burkina Faso\n",
        "Burundi\n",
        "Cambodia\n",
        "Cameroon\n",
        "Canada\n",
        "Cape Verde\n",
        "Cayman Islands\n",
        "Central African Republic\n",
        "Chad\n",
        "Channel Islands\n",
        "Chile\n",
        "China\n",
        "Colombia\n",
        "Comoros\n",
        "Congo, Dem. Rep.\n",
        "Congo, Rep.\n",
        "Costa Rica\n",
        "Cote d'Ivoire\n",
        "Croatia\n",
        "Cuba\n",
        "Curacao\n",
        "Cyprus\n",
        "Czech Republic\n",
        "Denmark\n",
        "Djibouti\n",
        "Dominica\n",
        "Dominican Republic\n",
        "Ecuador\n",
        "Egypt, Arab Rep.\n",
        "El Salvador\n",
        "Equatorial Guinea\n",
        "Eritrea\n",
        "Estonia\n",
        "Ethiopia\n",
        "Faeroe Islands\n",
        "Fiji\n",
        "Finland\n",
        "France\n",
        "French Polynesia\n",
        "Gabon\n",
        "Gambia, The\n",
        "Georgia\n",
        "Germany\n",
        "Ghana\n",
        "Greece\n",
        "Greenland\n",
        "Grenada\n",
        "Guam\n",
        "Guatemala\n",
        "Guinea\n",
        "Guinea-Bissau\n",
        "Guyana\n",
        "Haiti\n",
        "Honduras\n",
        "Hong Kong SAR, China\n",
        "Hungary\n",
        "Iceland\n",
        "India\n",
        "Indonesia\n",
        "Iran, Islamic Rep.\n",
        "Iraq\n",
        "Ireland\n",
        "Isle of Man\n",
        "Israel\n",
        "Italy\n",
        "Jamaica\n",
        "Japan\n",
        "Jordan\n",
        "Kazakhstan\n",
        "Kenya\n",
        "Kiribati\n",
        "Korea, Dem. Rep.\n",
        "Korea, Rep.\n",
        "Kosovo\n",
        "Kuwait\n",
        "Kyrgyz Republic\n",
        "Lao PDR\n",
        "Latvia\n",
        "Lebanon\n",
        "Lesotho\n",
        "Liberia\n",
        "Libya\n",
        "Liechtenstein\n",
        "Lithuania\n",
        "Luxembourg\n",
        "Macao SAR, China\n",
        "Macedonia, FYR\n",
        "Madagascar\n",
        "Malawi\n",
        "Malaysia\n",
        "Maldives\n",
        "Mali\n",
        "Malta\n",
        "Marshall Islands\n",
        "Mauritania\n",
        "Mauritius\n",
        "Mexico\n",
        "Micronesia, Fed. Sts.\n",
        "Moldova\n",
        "Monaco\n",
        "Mongolia\n",
        "Montenegro\n",
        "Morocco\n",
        "Mozambique\n",
        "Myanmar\n",
        "Namibia\n",
        "Nepal\n",
        "Netherlands\n",
        "New Caledonia\n",
        "New Zealand\n",
        "Nicaragua\n",
        "Niger\n",
        "Nigeria\n",
        "Northern Mariana Islands\n",
        "Norway\n",
        "Oman\n",
        "Pakistan\n",
        "Palau\n",
        "Panama\n",
        "Papua New Guinea\n",
        "Paraguay\n",
        "Peru\n",
        "Philippines\n",
        "Poland\n",
        "Portugal\n",
        "Puerto Rico\n",
        "Qatar\n",
        "Romania\n",
        "Russian Federation\n",
        "Rwanda\n",
        "Samoa\n",
        "San Marino\n",
        "Sao Tome and Principe\n",
        "Saudi Arabia\n",
        "Senegal\n",
        "Serbia\n",
        "Seychelles\n",
        "Sierra Leone\n",
        "Singapore\n",
        "Sint Maarten (Dutch part)\n",
        "Slovak Republic\n",
        "Slovenia\n",
        "Solomon Islands\n",
        "Somalia\n",
        "South Africa\n",
        "South Sudan\n",
        "Spain\n",
        "Sri Lanka\n",
        "St. Kitts and Nevis\n",
        "St. Lucia\n",
        "St. Martin (French part)\n",
        "St. Vincent and the Grenadines\n",
        "Sudan\n",
        "Suriname\n",
        "Swaziland\n",
        "Sweden\n",
        "Switzerland\n",
        "Syrian Arab Republic\n",
        "Tajikistan\n",
        "Tanzania\n",
        "Thailand\n",
        "Timor-Leste\n",
        "Togo\n",
        "Tonga\n",
        "Trinidad and Tobago\n",
        "Tunisia\n",
        "Turkey\n",
        "Turkmenistan\n",
        "Turks and Caicos Islands\n",
        "Tuvalu\n",
        "Uganda\n",
        "Ukraine\n",
        "United Arab Emirates\n",
        "United Kingdom\n",
        "United States\n",
        "Uruguay\n",
        "Uzbekistan\n",
        "Vanuatu\n",
        "Venezuela, RB\n",
        "Vietnam\n",
        "Virgin Islands (U.S.)\n",
        "West Bank and Gaza\n",
        "Yemen, Rep.\n",
        "Zambia\n",
        "Zimbabwe\n"
       ]
      }
     ],
     "prompt_number": 51
    },
    {
     "cell_type": "code",
     "collapsed": false,
     "input": [],
     "language": "python",
     "metadata": {},
     "outputs": [],
     "prompt_number": 50
    },
    {
     "cell_type": "code",
     "collapsed": false,
     "input": [],
     "language": "python",
     "metadata": {},
     "outputs": []
    },
    {
     "cell_type": "code",
     "collapsed": false,
     "input": [],
     "language": "python",
     "metadata": {},
     "outputs": []
    },
    {
     "cell_type": "heading",
     "level": 1,
     "metadata": {},
     "source": [
      "Exlore Life Expectancy by Year"
     ]
    },
    {
     "cell_type": "raw",
     "metadata": {},
     "source": [
      "Information about World Bank's Life Expectancy calculations:\n",
      "http://data.worldbank.org/indicator/SP.DYN.LE00.IN\n",
      "\n",
      "\"Life expectancy at birth indicates the number of years a newborn infant would live if prevailing patterns of mortality at the time of its birth were to stay the same throughout its life.\""
     ]
    },
    {
     "cell_type": "raw",
     "metadata": {},
     "source": [
      "Years: 1960 - 2012\n",
      "Columns: 4 - 56"
     ]
    },
    {
     "cell_type": "heading",
     "level": 2,
     "metadata": {},
     "source": [
      "2011"
     ]
    },
    {
     "cell_type": "code",
     "collapsed": false,
     "input": [
      "# Group female life expectancy data from all countries \n",
      "# in a particular year (2011) into an array\n",
      "# and ake out countries with missing data\n",
      "\n",
      "life_exp_f_2011 = []\n",
      "life_exp_m_2011 = []\n",
      "\n",
      "for j in life_exp_f:\n",
      "    if not math.isnan(j[55]):\n",
      "        life_exp_f_2011.append(j[55])\n",
      "        \n",
      "for k in life_exp_m:\n",
      "    if not math.isnan(k[55]):\n",
      "        life_exp_m_2011.append(k[55])"
     ],
     "language": "python",
     "metadata": {},
     "outputs": [],
     "prompt_number": 6
    },
    {
     "cell_type": "code",
     "collapsed": false,
     "input": [
      "n, bins, patches = pyplot.hist(life_exp_f_2011)"
     ],
     "language": "python",
     "metadata": {},
     "outputs": [
      {
       "metadata": {},
       "output_type": "display_data",
       "png": "[encoded data removed]",
       "text": [
        "<matplotlib.figure.Figure at 0x1085d1ad0>"
       ]
      }
     ],
     "prompt_number": 7
    },
    {
     "cell_type": "code",
     "collapsed": false,
     "input": [
      "n, bins, patches = pyplot.hist(life_exp_m_2011)"
     ],
     "language": "python",
     "metadata": {},
     "outputs": [
      {
       "metadata": {},
       "output_type": "display_data",
       "png": "[encoded data removed]",
       "text": [
        "<matplotlib.figure.Figure at 0x1085d1450>"
       ]
      }
     ],
     "prompt_number": 8
    },
    {
     "cell_type": "raw",
     "metadata": {},
     "source": [
      "Analysis: Most countries have a male life expectancy between 70 and 75\n",
      "\n",
      "Questions: \n",
      "- Why do results for men look less even? \n",
      "- Is data present/missing for men and women in the same years for the same country? (Probably)"
     ]
    },
    {
     "cell_type": "raw",
     "metadata": {},
     "source": [
      "Tasks: \n",
      "1) Look at mean, median, min/max values to better understand the data\n",
      "2) Get country names for each \"bucket\" (the life_exp_f_2011 array no longer has country names\u2014go back to the life_exp_f array to extract info)"
     ]
    },
    {
     "cell_type": "code",
     "collapsed": false,
     "input": [
      "median(life_exp_f_2011)"
     ],
     "language": "python",
     "metadata": {},
     "outputs": [
      {
       "metadata": {},
       "output_type": "pyout",
       "prompt_number": 9,
       "text": [
        "75.388802861699702"
       ]
      }
     ],
     "prompt_number": 9
    },
    {
     "cell_type": "heading",
     "level": 3,
     "metadata": {},
     "source": [
      "Countries with Life Expectancy under 50 years in 2011"
     ]
    },
    {
     "cell_type": "code",
     "collapsed": false,
     "input": [
      "# Countries with female life expectancy less than 50 years\n",
      "for l in life_exp_f:\n",
      "    if not math.isnan(j[55]):\n",
      "        if l[55] < 50:\n",
      "            print l[0]"
     ],
     "language": "python",
     "metadata": {},
     "outputs": [
      {
       "output_type": "stream",
       "stream": "stdout",
       "text": [
        "Afghanistan\n",
        "Guinea-Bissau\n",
        "Lesotho\n",
        "Sierra Leone\n",
        "Swaziland\n",
        "Zambia\n"
       ]
      }
     ],
     "prompt_number": 10
    },
    {
     "cell_type": "code",
     "collapsed": false,
     "input": [
      "# Countries with male life expectancy less than 50 years\n",
      "for l in life_exp_m:\n",
      "    if not math.isnan(j[55]):\n",
      "        if l[55] < 50:\n",
      "            print l[0]"
     ],
     "language": "python",
     "metadata": {},
     "outputs": [
      {
       "output_type": "stream",
       "stream": "stdout",
       "text": [
        "Afghanistan\n",
        "Angola\n",
        "Burundi\n",
        "Central African Republic\n",
        "Chad\n",
        "Congo, Dem. Rep.\n",
        "Equatorial Guinea\n",
        "Guinea-Bissau\n",
        "Lesotho\n",
        "Mozambique\n",
        "Sierra Leone\n",
        "Somalia\n",
        "Swaziland\n",
        "Zambia\n"
       ]
      }
     ],
     "prompt_number": 11
    },
    {
     "cell_type": "heading",
     "level": 2,
     "metadata": {},
     "source": [
      "1995"
     ]
    },
    {
     "cell_type": "raw",
     "metadata": {},
     "source": [
      "This year has a dramatic dip in life expectancy in severa African countries (attributed to genocide): Rwanda, Burundi, Sierra Leon (based on examinations in the country-focused section)\n",
      "\n",
      "While the timing for Rwanda and Burundi are understandable (they are neighboring countries whose genocide is attributed to the same two ethnic groups), Sierra Leone is in the opposite part of the African continent.\n",
      "\n",
      "Question: Is there a relationship?\n",
      "\n",
      "To Do: Read up on genocide in African countries"
     ]
    },
    {
     "cell_type": "code",
     "collapsed": false,
     "input": [
      "for l in life_exp_f:\n",
      "    if not math.isnan(j[39]):\n",
      "        if l[39] < 46:\n",
      "            print l[0]"
     ],
     "language": "python",
     "metadata": {},
     "outputs": [
      {
       "output_type": "stream",
       "stream": "stdout",
       "text": [
        "Afghanistan\n",
        "Angola\n",
        "Burundi\n",
        "Guinea-Bissau\n",
        "Liberia\n",
        "Niger\n",
        "Rwanda\n",
        "Sierra Leone\n",
        "Zambia\n"
       ]
      }
     ],
     "prompt_number": 254
    },
    {
     "cell_type": "code",
     "collapsed": false,
     "input": [
      "for l in life_exp_m:\n",
      "    if not math.isnan(j[39]):\n",
      "        if l[39] < 45:\n",
      "            print l[0]"
     ],
     "language": "python",
     "metadata": {},
     "outputs": [
      {
       "output_type": "stream",
       "stream": "stdout",
       "text": [
        "Afghanistan\n",
        "Angola\n",
        "Burundi\n",
        "Central African Republic\n",
        "Congo, Dem. Rep.\n",
        "Guinea\n",
        "Guinea-Bissau\n",
        "Liberia\n",
        "Mali\n",
        "Mozambique\n",
        "Niger\n",
        "Nigeria\n",
        "Rwanda\n",
        "Sierra Leone\n",
        "Somalia\n",
        "Uganda\n",
        "Zambia\n"
       ]
      }
     ],
     "prompt_number": 212
    },
    {
     "cell_type": "raw",
     "metadata": {},
     "source": [
      "1995 seems to be a bad year for many African countries. \n",
      "\n",
      "Questions:\n",
      "- What is the cause?\n",
      "- Do they all have the same dramatic dip as Rwanda, Burundi and Sierra Leone?"
     ]
    },
    {
     "cell_type": "code",
     "collapsed": false,
     "input": [],
     "language": "python",
     "metadata": {},
     "outputs": []
    },
    {
     "cell_type": "code",
     "collapsed": false,
     "input": [],
     "language": "python",
     "metadata": {},
     "outputs": []
    },
    {
     "cell_type": "heading",
     "level": 1,
     "metadata": {},
     "source": [
      "Life Expectancy by Country"
     ]
    },
    {
     "cell_type": "heading",
     "level": 2,
     "metadata": {},
     "source": [
      "Afganistan"
     ]
    },
    {
     "cell_type": "code",
     "collapsed": false,
     "input": [
      "# arrays for country-specific year-by-year data\n",
      "life_exp_f_Afg = []\n",
      "life_exp_m_Afg = []\n",
      "\n",
      "# put country-specific data in arrays\n",
      "for country in life_exp_f:\n",
      "    if country[0] == \"Afghanistan\":\n",
      "        for year in country:\n",
      "            life_exp_f_Afg.append(year)\n",
      "\n",
      "for country in life_exp_m:\n",
      "    if country[0] == \"Afghanistan\":\n",
      "        for year in country:\n",
      "            life_exp_m_Afg.append(year)\n",
      "\n",
      "# remove the first three fields containing text descriptions (to make plotting possible)\n",
      "for text in life_exp_f_Afg[0:4]:\n",
      "    life_exp_f_Afg.remove(text)\n",
      "    \n",
      "for text in life_exp_m_Afg[0:4]:\n",
      "    life_exp_m_Afg.remove(text)\n",
      "\n",
      "# remove non-numeric (nan) values: generated by empty fields (missing data)    \n",
      "for value in life_exp_f_Afg:\n",
      "    if math.isnan(value):\n",
      "        life_exp_f_Afg.remove(value)\n",
      "        \n",
      "for value in life_exp_m_Afg:\n",
      "    if math.isnan(value):\n",
      "        life_exp_m_Afg.remove(value)"
     ],
     "language": "python",
     "metadata": {},
     "outputs": [],
     "prompt_number": 239
    },
    {
     "cell_type": "code",
     "collapsed": false,
     "input": [
      "n, bins, patches = pyplot.hist(life_exp_f_Afg)"
     ],
     "language": "python",
     "metadata": {},
     "outputs": [
      {
       "metadata": {},
       "output_type": "display_data",
       "png": "[encoded data removed]",
       "text": [
        "<matplotlib.figure.Figure at 0x10b2e5450>"
       ]
      }
     ],
     "prompt_number": 240
    },
    {
     "cell_type": "code",
     "collapsed": false,
     "input": [
      "bins"
     ],
     "language": "python",
     "metadata": {},
     "outputs": [
      {
       "metadata": {},
       "output_type": "pyout",
       "prompt_number": 19,
       "text": [
        "array([ 30.813 ,  32.6162,  34.4194,  36.2226,  38.0258,  39.829 ,\n",
        "        41.6322,  43.4354,  45.2386,  47.0418,  48.845 ])"
       ]
      }
     ],
     "prompt_number": 19
    },
    {
     "cell_type": "code",
     "collapsed": false,
     "input": [
      "n, bins, patches = pyplot.hist(life_exp_m_Afg)"
     ],
     "language": "python",
     "metadata": {},
     "outputs": [
      {
       "metadata": {},
       "output_type": "display_data",
       "png": "[encoded data removed]",
       "text": [
        "<matplotlib.figure.Figure at 0x108570350>"
       ]
      }
     ],
     "prompt_number": 241
    },
    {
     "cell_type": "code",
     "collapsed": false,
     "input": [
      "plt.plot(life_exp_f_Afg)\n",
      "plt.plot(life_exp_m_Afg)"
     ],
     "language": "python",
     "metadata": {},
     "outputs": [
      {
       "metadata": {},
       "output_type": "pyout",
       "prompt_number": 234,
       "text": [
        "[<matplotlib.lines.Line2D at 0x10ada8690>]"
       ]
      },
      {
       "metadata": {},
       "output_type": "display_data",
       "png": "[encoded data removed]",
       "text": [
        "<matplotlib.figure.Figure at 0x10ae41610>"
       ]
      }
     ],
     "prompt_number": 234
    },
    {
     "cell_type": "heading",
     "level": 2,
     "metadata": {},
     "source": [
      "Sierra Leone"
     ]
    },
    {
     "cell_type": "code",
     "collapsed": false,
     "input": [
      "# arrays for country-specific year-by-year data\n",
      "life_exp_f_SL = []\n",
      "life_exp_m_SL = []\n",
      "\n",
      "# put country-specific data in arrays\n",
      "for country in life_exp_f:\n",
      "    if country[0] == \"Sierra Leone\":\n",
      "        for year in country:\n",
      "            life_exp_f_SL.append(year)\n",
      "\n",
      "for country in life_exp_m:\n",
      "    if country[0] == \"Sierra Leone\":\n",
      "        for year in country:\n",
      "            life_exp_m_SL.append(year)\n",
      "\n",
      "# remove the first three fields containing text descriptions (to make plotting possible)\n",
      "for text in life_exp_f_SL[0:4]:\n",
      "    life_exp_f_SL.remove(text)\n",
      "    \n",
      "for text in life_exp_m_SL[0:4]:\n",
      "    life_exp_m_SL.remove(text)\n",
      "\n",
      "# remove non-numeric (nan) values: generated by empty fields (missing data)    \n",
      "for value in life_exp_f_SL:\n",
      "    if math.isnan(value):\n",
      "        life_exp_f_SL.remove(value)\n",
      "        \n",
      "for value in life_exp_m_SL:\n",
      "    if math.isnan(value):\n",
      "        life_exp_m_SL.remove(value)"
     ],
     "language": "python",
     "metadata": {},
     "outputs": [],
     "prompt_number": 170
    },
    {
     "cell_type": "code",
     "collapsed": false,
     "input": [
      "pyplot.hist(life_exp_f_SL)"
     ],
     "language": "python",
     "metadata": {},
     "outputs": [
      {
       "metadata": {},
       "output_type": "pyout",
       "prompt_number": 236,
       "text": [
        "(array([ 6.,  4.,  3.,  6.,  7.,  6.,  6.,  8.,  2.,  4.]),\n",
        " array([ 32.796 ,  34.3576,  35.9192,  37.4808,  39.0424,  40.604 ,\n",
        "        42.1656,  43.7272,  45.2888,  46.8504,  48.412 ]),\n",
        " <a list of 10 Patch objects>)"
       ]
      },
      {
       "metadata": {},
       "output_type": "display_data",
       "png": "[encoded data removed]",
       "text": [
        "<matplotlib.figure.Figure at 0x10b07d8d0>"
       ]
      }
     ],
     "prompt_number": 236
    },
    {
     "cell_type": "code",
     "collapsed": false,
     "input": [
      "pyplot.hist(life_exp_m_SL)"
     ],
     "language": "python",
     "metadata": {},
     "outputs": [
      {
       "metadata": {},
       "output_type": "pyout",
       "prompt_number": 237,
       "text": [
        "(array([  6.,   3.,   3.,  11.,   6.,   4.,   6.,   7.,   2.,   4.]),\n",
        " array([ 30.19  ,  31.8881,  33.5862,  35.2843,  36.9824,  38.6805,\n",
        "        40.3786,  42.0767,  43.7748,  45.4729,  47.171 ]),\n",
        " <a list of 10 Patch objects>)"
       ]
      },
      {
       "metadata": {},
       "output_type": "display_data",
       "png": "[encoded data removed]",
       "text": [
        "<matplotlib.figure.Figure at 0x10b10d590>"
       ]
      }
     ],
     "prompt_number": 237
    },
    {
     "cell_type": "code",
     "collapsed": false,
     "input": [
      "plt.plot(life_exp_f_SL)\n",
      "plt.plot(life_exp_m_SL)"
     ],
     "language": "python",
     "metadata": {},
     "outputs": [
      {
       "metadata": {},
       "output_type": "pyout",
       "prompt_number": 238,
       "text": [
        "[<matplotlib.lines.Line2D at 0x10af01710>]"
       ]
      },
      {
       "metadata": {},
       "output_type": "display_data",
       "png": "[encoded data removed]",
       "text": [
        "<matplotlib.figure.Figure at 0x10b077c90>"
       ]
      }
     ],
     "prompt_number": 238
    },
    {
     "cell_type": "heading",
     "level": 2,
     "metadata": {},
     "source": [
      "Burundi"
     ]
    },
    {
     "cell_type": "raw",
     "metadata": {},
     "source": [
      "While I'm working out dictionary and matplotlib issues in the new approach, I'll use the \"old approach\" to begin looking at Burundi data."
     ]
    },
    {
     "cell_type": "code",
     "collapsed": false,
     "input": [
      "life_exp_f_Bur = []\n",
      "life_exp_m_Bur = []\n",
      "\n",
      "# put country-specific data in arrays\n",
      "for country in life_exp_f:\n",
      "    if country[0] == \"Burundi\":\n",
      "        for year in country:\n",
      "            life_exp_f_Bur.append(year)\n",
      "\n",
      "for country in life_exp_m:\n",
      "    if country[0] == \"Burundi\":\n",
      "        for year in country:\n",
      "            life_exp_m_Bur.append(year)\n",
      "\n",
      "# remove the first three fields containing text descriptions (to make plotting possible)\n",
      "for text in life_exp_f_Bur[0:4]:\n",
      "    life_exp_f_Bur.remove(text)\n",
      "    \n",
      "for text in life_exp_m_Bur[0:4]:\n",
      "    life_exp_m_Bur.remove(text)\n",
      "\n",
      "# remove non-numeric (nan) values: generated by empty fields (missing data)    \n",
      "for value in life_exp_f_Bur:\n",
      "    if math.isnan(value):\n",
      "        life_exp_f_Bur.remove(value)\n",
      "        \n",
      "for value in life_exp_m_Bur:\n",
      "    if math.isnan(value):\n",
      "        life_exp_m_Bur.remove(value)"
     ],
     "language": "python",
     "metadata": {},
     "outputs": [],
     "prompt_number": 244
    },
    {
     "cell_type": "code",
     "collapsed": false,
     "input": [
      "pyplot.hist(life_exp_f_Bur)"
     ],
     "language": "python",
     "metadata": {},
     "outputs": [
      {
       "metadata": {},
       "output_type": "pyout",
       "prompt_number": 199,
       "text": [
        "(array([ 3.,  3.,  6.,  8.,  8.,  5.,  6.,  9.,  2.,  2.]),\n",
        " array([ 42.852 ,  43.7471,  44.6422,  45.5373,  46.4324,  47.3275,\n",
        "        48.2226,  49.1177,  50.0128,  50.9079,  51.803 ]),\n",
        " <a list of 10 Patch objects>)"
       ]
      },
      {
       "metadata": {},
       "output_type": "display_data",
       "png": "[encoded data removed]",
       "text": [
        "<matplotlib.figure.Figure at 0x10a60ad90>"
       ]
      }
     ],
     "prompt_number": 199
    },
    {
     "cell_type": "code",
     "collapsed": false,
     "input": [
      "pyplot.hist(life_exp_m_Bur)"
     ],
     "language": "python",
     "metadata": {},
     "outputs": [
      {
       "metadata": {},
       "output_type": "pyout",
       "prompt_number": 201,
       "text": [
        "(array([ 3.,  4.,  6.,  6.,  7.,  8.,  7.,  6.,  2.,  3.]),\n",
        " array([ 39.698 ,  40.6223,  41.5466,  42.4709,  43.3952,  44.3195,\n",
        "        45.2438,  46.1681,  47.0924,  48.0167,  48.941 ]),\n",
        " <a list of 10 Patch objects>)"
       ]
      },
      {
       "metadata": {},
       "output_type": "display_data",
       "png": "[encoded data removed]",
       "text": [
        "<matplotlib.figure.Figure at 0x10a6214d0>"
       ]
      }
     ],
     "prompt_number": 201
    },
    {
     "cell_type": "code",
     "collapsed": false,
     "input": [
      "plt.plot(life_exp_f_Bur)\n",
      "plt.plot(life_exp_m_Bur)"
     ],
     "language": "python",
     "metadata": {},
     "outputs": [
      {
       "metadata": {},
       "output_type": "pyout",
       "prompt_number": 232,
       "text": [
        "[<matplotlib.lines.Line2D at 0x10acfea50>]"
       ]
      },
      {
       "metadata": {},
       "output_type": "display_data",
       "png": "[encoded data removed]",
       "text": [
        "<matplotlib.figure.Figure at 0x10ac89bd0>"
       ]
      }
     ],
     "prompt_number": 232
    },
    {
     "cell_type": "heading",
     "level": 2,
     "metadata": {},
     "source": [
      "Rwanda"
     ]
    },
    {
     "cell_type": "code",
     "collapsed": false,
     "input": [
      "# arrays for country-specific year-by-year data\n",
      "life_exp_f_Rwa = []\n",
      "life_exp_m_Rwa = []\n",
      "\n",
      "# put country-specific data in arrays\n",
      "for country in life_exp_f:\n",
      "    if country[0] == \"Rwanda\":\n",
      "        for year in country:\n",
      "            life_exp_f_Rwa.append(year)\n",
      "\n",
      "for country in life_exp_m:\n",
      "    if country[0] == \"Rwanda\":\n",
      "        for year in country:\n",
      "            life_exp_m_Rwa.append(year)\n",
      "\n",
      "# remove the first three fields containing text descriptions (to make plotting possible)\n",
      "for text in life_exp_f_Rwa[0:4]:\n",
      "    life_exp_f_Rwa.remove(text)\n",
      "    \n",
      "for text in life_exp_m_Rwa[0:4]:\n",
      "    life_exp_m_Rwa.remove(text)\n",
      "\n",
      "# remove non-numeric (nan) values: generated by empty fields (missing data)    \n",
      "for value in life_exp_f_Rwa:\n",
      "    if math.isnan(value):\n",
      "        life_exp_f_Rwa.remove(value)\n",
      "        \n",
      "for value in life_exp_m_Rwa:\n",
      "    if math.isnan(value):\n",
      "        life_exp_m_Rwa.remove(value)"
     ],
     "language": "python",
     "metadata": {},
     "outputs": [],
     "prompt_number": 203
    },
    {
     "cell_type": "code",
     "collapsed": false,
     "input": [
      "pyplot.hist(life_exp_f_Rwa)"
     ],
     "language": "python",
     "metadata": {},
     "outputs": [
      {
       "metadata": {},
       "output_type": "pyout",
       "prompt_number": 230,
       "text": [
        "(array([  4.,   1.,   2.,   2.,   1.,   9.,  14.,   7.,   6.,   6.]),\n",
        " array([ 28.532 ,  31.3523,  34.1726,  36.9929,  39.8132,  42.6335,\n",
        "        45.4538,  48.2741,  51.0944,  53.9147,  56.735 ]),\n",
        " <a list of 10 Patch objects>)"
       ]
      },
      {
       "metadata": {},
       "output_type": "display_data",
       "png": "[encoded data removed]",
       "text": [
        "<matplotlib.figure.Figure at 0x10ac5e450>"
       ]
      }
     ],
     "prompt_number": 230
    },
    {
     "cell_type": "code",
     "collapsed": false,
     "input": [
      "pyplot.hist(life_exp_m_Rwa)"
     ],
     "language": "python",
     "metadata": {},
     "outputs": [
      {
       "metadata": {},
       "output_type": "pyout",
       "prompt_number": 229,
       "text": [
        "(array([  4.,   1.,   2.,   2.,   1.,  10.,  12.,   8.,   6.,   6.]),\n",
        " array([ 25.187 ,  28.0801,  30.9732,  33.8663,  36.7594,  39.6525,\n",
        "        42.5456,  45.4387,  48.3318,  51.2249,  54.118 ]),\n",
        " <a list of 10 Patch objects>)"
       ]
      },
      {
       "metadata": {},
       "output_type": "display_data",
       "png": "[encoded data removed]",
       "text": [
        "<matplotlib.figure.Figure at 0x10abb1a10>"
       ]
      }
     ],
     "prompt_number": 229
    },
    {
     "cell_type": "code",
     "collapsed": false,
     "input": [
      "plt.plot(life_exp_f_Rwa)\n",
      "plt.plot(life_exp_m_Rwa)"
     ],
     "language": "python",
     "metadata": {},
     "outputs": [
      {
       "metadata": {},
       "output_type": "pyout",
       "prompt_number": 231,
       "text": [
        "[<matplotlib.lines.Line2D at 0x10ac79b10>]"
       ]
      },
      {
       "metadata": {},
       "output_type": "display_data",
       "png": "[encoded data removed]",
       "text": [
        "<matplotlib.figure.Figure at 0x10ad0efd0>"
       ]
      }
     ],
     "prompt_number": 231
    },
    {
     "cell_type": "heading",
     "level": 2,
     "metadata": {},
     "source": [
      "Democratic Republic of Congo"
     ]
    },
    {
     "cell_type": "code",
     "collapsed": false,
     "input": [
      "#Congo, Dem. Rep.\n",
      "\n",
      "# arrays for country-specific year-by-year data\n",
      "life_exp_f_DRC = []\n",
      "life_exp_m_DRC = []\n",
      "\n",
      "# put country-specific data in arrays\n",
      "for country in life_exp_f:\n",
      "    if country[0] == \"Congo, Dem. Rep.\":\n",
      "        for year in country:\n",
      "            life_exp_f_DRC.append(year)\n",
      "\n",
      "for country in life_exp_m:\n",
      "    if country[0] == \"Congo, Dem. Rep.\":\n",
      "        for year in country:\n",
      "            life_exp_m_DRC.append(year)\n",
      "\n",
      "# remove the first three fields containing text descriptions (to make plotting possible)\n",
      "for text in life_exp_f_DRC[0:4]:\n",
      "    life_exp_f_DRC.remove(text)\n",
      "    \n",
      "for text in life_exp_m_DRC[0:4]:\n",
      "    life_exp_m_DRC.remove(text)\n",
      "\n",
      "# remove non-numeric (nan) values: generated by empty fields (missing data)    \n",
      "for value in life_exp_f_DRC:\n",
      "    if math.isnan(value):\n",
      "        life_exp_f_DRC.remove(value)\n",
      "        \n",
      "for value in life_exp_m_DRC:\n",
      "    if math.isnan(value):\n",
      "        life_exp_m_DRC.remove(value)\n"
     ],
     "language": "python",
     "metadata": {},
     "outputs": [],
     "prompt_number": 225
    },
    {
     "cell_type": "code",
     "collapsed": false,
     "input": [
      "pyplot.hist(life_exp_f_DRC)"
     ],
     "language": "python",
     "metadata": {},
     "outputs": [
      {
       "metadata": {},
       "output_type": "pyout",
       "prompt_number": 243,
       "text": [
        "(array([  4.,   3.,   2.,   2.,   3.,  10.,  10.,  12.,   3.,   3.]),\n",
        " array([ 42.465,  43.22 ,  43.975,  44.73 ,  45.485,  46.24 ,  46.995,\n",
        "        47.75 ,  48.505,  49.26 ,  50.015]),\n",
        " <a list of 10 Patch objects>)"
       ]
      },
      {
       "metadata": {},
       "output_type": "display_data",
       "png": "[encoded data removed]",
       "text": [
        "<matplotlib.figure.Figure at 0x108ec3110>"
       ]
      }
     ],
     "prompt_number": 243
    },
    {
     "cell_type": "code",
     "collapsed": false,
     "input": [
      "pyplot.hist(life_exp_m_DRC)"
     ],
     "language": "python",
     "metadata": {},
     "outputs": [
      {
       "metadata": {},
       "output_type": "pyout",
       "prompt_number": 242,
       "text": [
        "(array([  4.,   2.,   3.,   2.,   2.,   4.,  11.,  12.,   8.,   4.]),\n",
        " array([ 39.64  ,  40.3562,  41.0724,  41.7886,  42.5048,  43.221 ,\n",
        "        43.9372,  44.6534,  45.3696,  46.0858,  46.802 ]),\n",
        " <a list of 10 Patch objects>)"
       ]
      },
      {
       "metadata": {},
       "output_type": "display_data",
       "png": "[encoded data removed]",
       "text": [
        "<matplotlib.figure.Figure at 0x10b1bead0>"
       ]
      }
     ],
     "prompt_number": 242
    },
    {
     "cell_type": "code",
     "collapsed": false,
     "input": [
      "plt.plot(life_exp_f_DRC)\n",
      "plt.plot(life_exp_m_DRC)"
     ],
     "language": "python",
     "metadata": {},
     "outputs": [
      {
       "metadata": {},
       "output_type": "pyout",
       "prompt_number": 227,
       "text": [
        "[<matplotlib.lines.Line2D at 0x10a962f10>]"
       ]
      },
      {
       "metadata": {},
       "output_type": "display_data",
       "png": "[encoded data removed]",
       "text": [
        "<matplotlib.figure.Figure at 0x10a2ddc50>"
       ]
      }
     ],
     "prompt_number": 227
    },
    {
     "cell_type": "heading",
     "level": 2,
     "metadata": {},
     "source": [
      "Guinea-Bissau"
     ]
    },
    {
     "cell_type": "code",
     "collapsed": false,
     "input": [
      "# arrays for country-specific year-by-year data\n",
      "life_exp_f_GB = []\n",
      "life_exp_m_GB = []\n",
      "\n",
      "# put country-specific data in arrays\n",
      "for country in life_exp_f:\n",
      "    if country[0] == \"Guinea-Bissau\":\n",
      "        for year in country:\n",
      "            life_exp_f_GB.append(year)\n",
      "\n",
      "for country in life_exp_m:\n",
      "    if country[0] == \"Guinea-Bissau\":\n",
      "        for year in country:\n",
      "            life_exp_m_GB.append(year)\n",
      "\n",
      "# remove the first three fields containing text descriptions (to make plotting possible)\n",
      "for text in life_exp_f_GB[0:4]:\n",
      "    life_exp_f_GB.remove(text)\n",
      "    \n",
      "for text in life_exp_m_GB[0:4]:\n",
      "    life_exp_m_GB.remove(text)\n",
      "\n",
      "# remove non-numeric (nan) values: generated by empty fields (missing data)    \n",
      "for value in life_exp_f_GB:\n",
      "    if math.isnan(value):\n",
      "        life_exp_f_GB.remove(value)\n",
      "        \n",
      "for value in life_exp_m_GB:\n",
      "    if math.isnan(value):\n",
      "        life_exp_m_GB.remove(value)"
     ],
     "language": "python",
     "metadata": {},
     "outputs": [],
     "prompt_number": 246
    },
    {
     "cell_type": "code",
     "collapsed": false,
     "input": [
      "pyplot.hist(life_exp_f_GB)"
     ],
     "language": "python",
     "metadata": {},
     "outputs": [
      {
       "metadata": {},
       "output_type": "pyout",
       "prompt_number": 249,
       "text": [
        "(array([ 6.,  5.,  5.,  4.,  4.,  5.,  8.,  6.,  5.,  4.]),\n",
        " array([ 35.864,  37.246,  38.628,  40.01 ,  41.392,  42.774,  44.156,\n",
        "        45.538,  46.92 ,  48.302,  49.684]),\n",
        " <a list of 10 Patch objects>)"
       ]
      },
      {
       "metadata": {},
       "output_type": "display_data",
       "png": "[encoded data removed]",
       "text": [
        "<matplotlib.figure.Figure at 0x10b3bf050>"
       ]
      }
     ],
     "prompt_number": 249
    },
    {
     "cell_type": "code",
     "collapsed": false,
     "input": [
      "pyplot.hist(life_exp_m_GB)"
     ],
     "language": "python",
     "metadata": {},
     "outputs": [
      {
       "metadata": {},
       "output_type": "pyout",
       "prompt_number": 250,
       "text": [
        "(array([ 5.,  5.,  6.,  4.,  4.,  6.,  7.,  5.,  6.,  4.]),\n",
        " array([ 33.214 ,  34.5542,  35.8944,  37.2346,  38.5748,  39.915 ,\n",
        "        41.2552,  42.5954,  43.9356,  45.2758,  46.616 ]),\n",
        " <a list of 10 Patch objects>)"
       ]
      },
      {
       "metadata": {},
       "output_type": "display_data",
       "png": "[encoded data removed]",
       "text": [
        "<matplotlib.figure.Figure at 0x10b61e910>"
       ]
      }
     ],
     "prompt_number": 250
    },
    {
     "cell_type": "code",
     "collapsed": false,
     "input": [
      "plt.plot(life_exp_f_GB)\n",
      "plt.plot(life_exp_m_GB)"
     ],
     "language": "python",
     "metadata": {},
     "outputs": [
      {
       "metadata": {},
       "output_type": "pyout",
       "prompt_number": 252,
       "text": [
        "[<matplotlib.lines.Line2D at 0x10b617910>]"
       ]
      },
      {
       "metadata": {},
       "output_type": "display_data",
       "png": "[encoded data removed]",
       "text": [
        "<matplotlib.figure.Figure at 0x10b617b50>"
       ]
      }
     ],
     "prompt_number": 252
    },
    {
     "cell_type": "code",
     "collapsed": false,
     "input": [],
     "language": "python",
     "metadata": {},
     "outputs": []
    },
    {
     "cell_type": "heading",
     "level": 2,
     "metadata": {},
     "source": [
      "Liberia"
     ]
    },
    {
     "cell_type": "code",
     "collapsed": false,
     "input": [
      "# arrays for country-specific year-by-year data\n",
      "life_exp_f_Lib = []\n",
      "life_exp_m_Lib = []\n",
      "\n",
      "# put country-specific data in arrays\n",
      "for country in life_exp_f:\n",
      "    if country[0] == \"Guinea-Bissau\":\n",
      "        for year in country:\n",
      "            life_exp_f_Lib.append(year)\n",
      "\n",
      "for country in life_exp_m:\n",
      "    if country[0] == \"Guinea-Bissau\":\n",
      "        for year in country:\n",
      "            life_exp_m_Lib.append(year)\n",
      "\n",
      "# remove the first three fields containing text descriptions (to make plotting possible)\n",
      "for text in life_exp_f_Lib[0:4]:\n",
      "    life_exp_f_Lib.remove(text)\n",
      "    \n",
      "for text in life_exp_m_Lib[0:4]:\n",
      "    life_exp_m_Lib.remove(text)\n",
      "\n",
      "# remove non-numeric (nan) values: generated by empty fields (missing data)    \n",
      "for value in life_exp_f_Lib:\n",
      "    if math.isnan(value):\n",
      "        life_exp_f_Lib.remove(value)\n",
      "        \n",
      "for value in life_exp_m_Lib:\n",
      "    if math.isnan(value):\n",
      "        life_exp_m_Lib.remove(value)"
     ],
     "language": "python",
     "metadata": {},
     "outputs": [],
     "prompt_number": 259
    },
    {
     "cell_type": "code",
     "collapsed": false,
     "input": [
      "pyplot.hist(life_exp_f_Lib)"
     ],
     "language": "python",
     "metadata": {},
     "outputs": [
      {
       "metadata": {},
       "output_type": "pyout",
       "prompt_number": 260,
       "text": [
        "(array([ 6.,  5.,  5.,  4.,  4.,  5.,  8.,  6.,  5.,  4.]),\n",
        " array([ 35.864,  37.246,  38.628,  40.01 ,  41.392,  42.774,  44.156,\n",
        "        45.538,  46.92 ,  48.302,  49.684]),\n",
        " <a list of 10 Patch objects>)"
       ]
      },
      {
       "metadata": {},
       "output_type": "display_data",
       "png": "[encoded data removed]",
       "text": [
        "<matplotlib.figure.Figure at 0x10b7d8f90>"
       ]
      }
     ],
     "prompt_number": 260
    },
    {
     "cell_type": "code",
     "collapsed": false,
     "input": [
      "pyplot.hist(life_exp_m_Lib)"
     ],
     "language": "python",
     "metadata": {},
     "outputs": [
      {
       "metadata": {},
       "output_type": "pyout",
       "prompt_number": 261,
       "text": [
        "(array([ 5.,  5.,  6.,  4.,  4.,  6.,  7.,  5.,  6.,  4.]),\n",
        " array([ 33.214 ,  34.5542,  35.8944,  37.2346,  38.5748,  39.915 ,\n",
        "        41.2552,  42.5954,  43.9356,  45.2758,  46.616 ]),\n",
        " <a list of 10 Patch objects>)"
       ]
      },
      {
       "metadata": {},
       "output_type": "display_data",
       "png": "[encoded data removed]",
       "text": [
        "<matplotlib.figure.Figure at 0x10b7f0a10>"
       ]
      }
     ],
     "prompt_number": 261
    },
    {
     "cell_type": "code",
     "collapsed": false,
     "input": [
      "plt.plot(life_exp_f_Lib)\n",
      "plt.plot(life_exp_m_Lib)"
     ],
     "language": "python",
     "metadata": {},
     "outputs": [
      {
       "metadata": {},
       "output_type": "pyout",
       "prompt_number": 262,
       "text": [
        "[<matplotlib.lines.Line2D at 0x10b91bed0>]"
       ]
      },
      {
       "metadata": {},
       "output_type": "display_data",
       "png": "[encoded data removed]",
       "text": [
        "<matplotlib.figure.Figure at 0x10b74fb50>"
       ]
      }
     ],
     "prompt_number": 262
    },
    {
     "cell_type": "heading",
     "level": 2,
     "metadata": {},
     "source": [
      "Niger"
     ]
    },
    {
     "cell_type": "code",
     "collapsed": false,
     "input": [
      "# arrays for country-specific year-by-year data\n",
      "life_exp_f_Nig = []\n",
      "life_exp_m_Nig = []\n",
      "\n",
      "# put country-specific data in arrays\n",
      "for country in life_exp_f:\n",
      "    if country[0] == \"Niger\":\n",
      "        for year in country:\n",
      "            life_exp_f_Nig.append(year)\n",
      "\n",
      "for country in life_exp_m:\n",
      "    if country[0] == \"Niger\":\n",
      "        for year in country:\n",
      "            life_exp_m_Nig.append(year)\n",
      "\n",
      "# remove the first three fields containing text descriptions (to make plotting possible)\n",
      "for text in life_exp_f_Nig[0:4]:\n",
      "    life_exp_f_Nig.remove(text)\n",
      "    \n",
      "for text in life_exp_m_Nig[0:4]:\n",
      "    life_exp_m_Nig.remove(text)\n",
      "\n",
      "# remove non-numeric (nan) values: generated by empty fields (missing data)    \n",
      "for value in life_exp_f_Nig:\n",
      "    if math.isnan(value):\n",
      "        life_exp_f_Nig.remove(value)\n",
      "        \n",
      "for value in life_exp_m_Nig:\n",
      "    if math.isnan(value):\n",
      "        life_exp_m_Nig.remove(value)"
     ],
     "language": "python",
     "metadata": {},
     "outputs": [],
     "prompt_number": 268
    },
    {
     "cell_type": "code",
     "collapsed": false,
     "input": [
      "pyplot.hist(life_exp_f_Nig)"
     ],
     "language": "python",
     "metadata": {},
     "outputs": [
      {
       "metadata": {},
       "output_type": "pyout",
       "prompt_number": 269,
       "text": [
        "(array([ 21.,   9.,   3.,   3.,   2.,   2.,   2.,   3.,   3.,   4.]),\n",
        " array([ 38.139 ,  39.8428,  41.5466,  43.2504,  44.9542,  46.658 ,\n",
        "        48.3618,  50.0656,  51.7694,  53.4732,  55.177 ]),\n",
        " <a list of 10 Patch objects>)"
       ]
      },
      {
       "metadata": {},
       "output_type": "display_data",
       "png": "[encoded data removed]",
       "text": [
        "<matplotlib.figure.Figure at 0x10baf7590>"
       ]
      }
     ],
     "prompt_number": 269
    },
    {
     "cell_type": "code",
     "collapsed": false,
     "input": [
      "pyplot.hist(life_exp_m_Nig)"
     ],
     "language": "python",
     "metadata": {},
     "outputs": [
      {
       "metadata": {},
       "output_type": "pyout",
       "prompt_number": 270,
       "text": [
        "(array([ 21.,   9.,   3.,   3.,   2.,   2.,   2.,   3.,   3.,   4.]),\n",
        " array([ 37.667 ,  39.3231,  40.9792,  42.6353,  44.2914,  45.9475,\n",
        "        47.6036,  49.2597,  50.9158,  52.5719,  54.228 ]),\n",
        " <a list of 10 Patch objects>)"
       ]
      },
      {
       "metadata": {},
       "output_type": "display_data",
       "png": "[encoded data removed]",
       "text": [
        "<matplotlib.figure.Figure at 0x10bbb85d0>"
       ]
      }
     ],
     "prompt_number": 270
    },
    {
     "cell_type": "code",
     "collapsed": false,
     "input": [
      "plt.plot(life_exp_f_Nig)\n",
      "plt.plot(life_exp_m_Nig)"
     ],
     "language": "python",
     "metadata": {},
     "outputs": [
      {
       "metadata": {},
       "output_type": "pyout",
       "prompt_number": 271,
       "text": [
        "[<matplotlib.lines.Line2D at 0x10bc1b190>]"
       ]
      },
      {
       "metadata": {},
       "output_type": "display_data",
       "png": "[encoded data removed]",
       "text": [
        "<matplotlib.figure.Figure at 0x10bb88510>"
       ]
      }
     ],
     "prompt_number": 271
    },
    {
     "cell_type": "heading",
     "level": 2,
     "metadata": {},
     "source": [
      "Angola"
     ]
    },
    {
     "cell_type": "code",
     "collapsed": false,
     "input": [
      "# arrays for country-specific year-by-year data\n",
      "life_exp_f_Ang = []\n",
      "life_exp_m_Ang = []\n",
      "\n",
      "# put country-specific data in arrays\n",
      "for country in life_exp_f:\n",
      "    if country[0] == \"Angola\":\n",
      "        for year in country:\n",
      "            life_exp_f_Ang.append(year)\n",
      "\n",
      "for country in life_exp_m:\n",
      "    if country[0] == \"Angola\":\n",
      "        for year in country:\n",
      "            life_exp_m_Ang.append(year)\n",
      "\n",
      "# remove the first three fields containing text descriptions (to make plotting possible)\n",
      "for text in life_exp_f_Ang[0:4]:\n",
      "    life_exp_f_Ang.remove(text)\n",
      "    \n",
      "for text in life_exp_m_Ang[0:4]:\n",
      "    life_exp_m_Ang.remove(text)\n",
      "\n",
      "# remove non-numeric (nan) values: generated by empty fields (missing data)    \n",
      "for value in life_exp_f_Ang:\n",
      "    if math.isnan(value):\n",
      "        life_exp_f_Ang.remove(value)\n",
      "        \n",
      "for value in life_exp_m_Ang:\n",
      "    if math.isnan(value):\n",
      "        life_exp_m_Ang.remove(value)"
     ],
     "language": "python",
     "metadata": {},
     "outputs": [],
     "prompt_number": 276
    },
    {
     "cell_type": "code",
     "collapsed": false,
     "input": [
      "pyplot.hist(life_exp_f_Ang)"
     ],
     "language": "python",
     "metadata": {},
     "outputs": [
      {
       "metadata": {},
       "output_type": "pyout",
       "prompt_number": 277,
       "text": [
        "(array([  5.,   4.,   5.,   7.,  13.,   5.,   2.,   3.,   3.,   5.]),\n",
        " array([ 34.504 ,  36.3094,  38.1148,  39.9202,  41.7256,  43.531 ,\n",
        "        45.3364,  47.1418,  48.9472,  50.7526,  52.558 ]),\n",
        " <a list of 10 Patch objects>)"
       ]
      },
      {
       "metadata": {},
       "output_type": "display_data",
       "png": "[encoded data removed]",
       "text": [
        "<matplotlib.figure.Figure at 0x10beff4d0>"
       ]
      }
     ],
     "prompt_number": 277
    },
    {
     "cell_type": "code",
     "collapsed": false,
     "input": [
      "pyplot.hist(life_exp_m_Ang)"
     ],
     "language": "python",
     "metadata": {},
     "outputs": [
      {
       "metadata": {},
       "output_type": "pyout",
       "prompt_number": 278,
       "text": [
        "(array([  5.,   5.,   4.,   7.,  15.,   3.,   2.,   2.,   4.,   5.]),\n",
        " array([ 31.539 ,  33.3483,  35.1576,  36.9669,  38.7762,  40.5855,\n",
        "        42.3948,  44.2041,  46.0134,  47.8227,  49.632 ]),\n",
        " <a list of 10 Patch objects>)"
       ]
      },
      {
       "metadata": {},
       "output_type": "display_data",
       "png": "[encoded data removed]",
       "text": [
        "<matplotlib.figure.Figure at 0x10bf9f690>"
       ]
      }
     ],
     "prompt_number": 278
    },
    {
     "cell_type": "code",
     "collapsed": false,
     "input": [
      "plt.plot(life_exp_f_Ang)\n",
      "plt.plot(life_exp_m_Ang)"
     ],
     "language": "python",
     "metadata": {},
     "outputs": [
      {
       "metadata": {},
       "output_type": "pyout",
       "prompt_number": 279,
       "text": [
        "[<matplotlib.lines.Line2D at 0x10be88f10>]"
       ]
      },
      {
       "metadata": {},
       "output_type": "display_data",
       "png": "[encoded data removed]",
       "text": [
        "<matplotlib.figure.Figure at 0x10bf04a90>"
       ]
      }
     ],
     "prompt_number": 279
    },
    {
     "cell_type": "heading",
     "level": 2,
     "metadata": {},
     "source": [
      "Zambia"
     ]
    },
    {
     "cell_type": "code",
     "collapsed": false,
     "input": [
      "# arrays for country-specific year-by-year data\n",
      "life_exp_f_Zam = []\n",
      "life_exp_m_Zam = []\n",
      "\n",
      "# put country-specific data in arrays\n",
      "for country in life_exp_f:\n",
      "    if country[0] == \"Zambia\":\n",
      "        for year in country:\n",
      "            life_exp_f_Zam.append(year)\n",
      "\n",
      "for country in life_exp_m:\n",
      "    if country[0] == \"Zambia\":\n",
      "        for year in country:\n",
      "            life_exp_m_Zam.append(year)\n",
      "\n",
      "# remove the first three fields containing text descriptions (to make plotting possible)\n",
      "for text in life_exp_f_Zam[0:4]:\n",
      "    life_exp_f_Zam.remove(text)\n",
      "    \n",
      "for text in life_exp_m_Zam[0:4]:\n",
      "    life_exp_m_Zam.remove(text)\n",
      "\n",
      "# remove non-numeric (nan) values: generated by empty fields (missing data)    \n",
      "for value in life_exp_f_Zam:\n",
      "    if math.isnan(value):\n",
      "        life_exp_f_Zam.remove(value)\n",
      "        \n",
      "for value in life_exp_m_Zam:\n",
      "    if math.isnan(value):\n",
      "        life_exp_m_Zam.remove(value)"
     ],
     "language": "python",
     "metadata": {},
     "outputs": [],
     "prompt_number": 281
    },
    {
     "cell_type": "code",
     "collapsed": false,
     "input": [
      "pyplot.hist(life_exp_f_Zam)"
     ],
     "language": "python",
     "metadata": {},
     "outputs": [
      {
       "metadata": {},
       "output_type": "pyout",
       "prompt_number": 282,
       "text": [
        "(array([  7.,   3.,   3.,   3.,   6.,   6.,   5.,   3.,   5.,  11.]),\n",
        " array([ 42.166,  43.325,  44.484,  45.643,  46.802,  47.961,  49.12 ,\n",
        "        50.279,  51.438,  52.597,  53.756]),\n",
        " <a list of 10 Patch objects>)"
       ]
      },
      {
       "metadata": {},
       "output_type": "display_data",
       "png": "[encoded data removed]",
       "text": [
        "<matplotlib.figure.Figure at 0x10be6fc50>"
       ]
      }
     ],
     "prompt_number": 282
    },
    {
     "cell_type": "code",
     "collapsed": false,
     "input": [
      "pyplot.hist(life_exp_m_Zam)"
     ],
     "language": "python",
     "metadata": {},
     "outputs": [
      {
       "metadata": {},
       "output_type": "pyout",
       "prompt_number": 283,
       "text": [
        "(array([  7.,   4.,   4.,   5.,   4.,   4.,   5.,   5.,   4.,  10.]),\n",
        " array([ 41.705 ,  42.5746,  43.4442,  44.3138,  45.1834,  46.053 ,\n",
        "        46.9226,  47.7922,  48.6618,  49.5314,  50.401 ]),\n",
        " <a list of 10 Patch objects>)"
       ]
      },
      {
       "metadata": {},
       "output_type": "display_data",
       "png": "[encoded data removed]",
       "text": [
        "<matplotlib.figure.Figure at 0x10bde04d0>"
       ]
      }
     ],
     "prompt_number": 283
    },
    {
     "cell_type": "code",
     "collapsed": false,
     "input": [
      "plt.plot(life_exp_f_Zam)\n",
      "plt.plot(life_exp_m_Zam)"
     ],
     "language": "python",
     "metadata": {},
     "outputs": [
      {
       "metadata": {},
       "output_type": "pyout",
       "prompt_number": 284,
       "text": [
        "[<matplotlib.lines.Line2D at 0x10c04f990>]"
       ]
      },
      {
       "metadata": {},
       "output_type": "display_data",
       "png": "[encoded data removed]",
       "text": [
        "<matplotlib.figure.Figure at 0x10c04fb90>"
       ]
      }
     ],
     "prompt_number": 284
    },
    {
     "cell_type": "heading",
     "level": 2,
     "metadata": {},
     "source": [
      "Lesotho"
     ]
    },
    {
     "cell_type": "code",
     "collapsed": false,
     "input": [
      "# arrays for country-specific year-by-year data\n",
      "life_exp_f_Les = []\n",
      "life_exp_m_Les = []\n",
      "\n",
      "# put country-specific data in arrays\n",
      "for country in life_exp_f:\n",
      "    if country[0] == \"Lesotho\":\n",
      "        for year in country:\n",
      "            life_exp_f_Les.append(year)\n",
      "\n",
      "for country in life_exp_m:\n",
      "    if country[0] == \"Lesotho\":\n",
      "        for year in country:\n",
      "            life_exp_m_Les.append(year)\n",
      "\n",
      "# remove the first three fields containing text descriptions (to make plotting possible)\n",
      "for text in life_exp_f_Les[0:4]:\n",
      "    life_exp_f_Les.remove(text)\n",
      "    \n",
      "for text in life_exp_m_Les[0:4]:\n",
      "    life_exp_m_Les.remove(text)\n",
      "\n",
      "# remove non-numeric (nan) values: generated by empty fields (missing data)    \n",
      "for value in life_exp_f_Les:\n",
      "    if math.isnan(value):\n",
      "        life_exp_f_Les.remove(value)\n",
      "        \n",
      "for value in life_exp_m_Les:\n",
      "    if math.isnan(value):\n",
      "        life_exp_m_Les.remove(value)"
     ],
     "language": "python",
     "metadata": {},
     "outputs": [],
     "prompt_number": 285
    },
    {
     "cell_type": "code",
     "collapsed": false,
     "input": [
      "pyplot.hist(life_exp_f_Les)"
     ],
     "language": "python",
     "metadata": {},
     "outputs": [
      {
       "metadata": {},
       "output_type": "pyout",
       "prompt_number": 286,
       "text": [
        "(array([  7.,   4.,   3.,  10.,   6.,   3.,   4.,   4.,   4.,   7.]),\n",
        " array([ 43.66  ,  45.4451,  47.2302,  49.0153,  50.8004,  52.5855,\n",
        "        54.3706,  56.1557,  57.9408,  59.7259,  61.511 ]),\n",
        " <a list of 10 Patch objects>)"
       ]
      },
      {
       "metadata": {},
       "output_type": "display_data",
       "png": "[encoded data removed]",
       "text": [
        "<matplotlib.figure.Figure at 0x10c233890>"
       ]
      }
     ],
     "prompt_number": 286
    },
    {
     "cell_type": "code",
     "collapsed": false,
     "input": [
      "pyplot.hist(life_exp_m_Les)"
     ],
     "language": "python",
     "metadata": {},
     "outputs": [
      {
       "metadata": {},
       "output_type": "pyout",
       "prompt_number": 287,
       "text": [
        "(array([  8.,  10.,   7.,   5.,   3.,   3.,   3.,   4.,   3.,   6.]),\n",
        " array([ 44.452,  45.793,  47.134,  48.475,  49.816,  51.157,  52.498,\n",
        "        53.839,  55.18 ,  56.521,  57.862]),\n",
        " <a list of 10 Patch objects>)"
       ]
      },
      {
       "metadata": {},
       "output_type": "display_data",
       "png": "[encoded data removed]",
       "text": [
        "<matplotlib.figure.Figure at 0x10c2a33d0>"
       ]
      }
     ],
     "prompt_number": 287
    },
    {
     "cell_type": "code",
     "collapsed": false,
     "input": [
      "plt.plot(life_exp_f_Les)\n",
      "plt.plot(life_exp_m_Les)"
     ],
     "language": "python",
     "metadata": {},
     "outputs": [
      {
       "metadata": {},
       "output_type": "pyout",
       "prompt_number": 288,
       "text": [
        "[<matplotlib.lines.Line2D at 0x10c36b110>]"
       ]
      },
      {
       "metadata": {},
       "output_type": "display_data",
       "png": "[encoded data removed]",
       "text": [
        "<matplotlib.figure.Figure at 0x10c340b50>"
       ]
      }
     ],
     "prompt_number": 288
    },
    {
     "cell_type": "heading",
     "level": 2,
     "metadata": {},
     "source": [
      "Swaziland"
     ]
    },
    {
     "cell_type": "code",
     "collapsed": false,
     "input": [
      "# arrays for country-specific year-by-year data\n",
      "life_exp_f_Swa = []\n",
      "life_exp_m_Swa = []\n",
      "\n",
      "# put country-specific data in arrays\n",
      "for country in life_exp_f:\n",
      "    if country[0] == \"Swaziland\":\n",
      "        for year in country:\n",
      "            life_exp_f_Swa.append(year)\n",
      "\n",
      "for country in life_exp_m:\n",
      "    if country[0] == \"Swaziland\":\n",
      "        for year in country:\n",
      "            life_exp_m_Swa.append(year)\n",
      "\n",
      "# remove the first three fields containing text descriptions (to make plotting possible)\n",
      "for text in life_exp_f_Swa[0:4]:\n",
      "    life_exp_f_Swa.remove(text)\n",
      "    \n",
      "for text in life_exp_m_Swa[0:4]:\n",
      "    life_exp_m_Swa.remove(text)\n",
      "\n",
      "# remove non-numeric (nan) values: generated by empty fields (missing data)    \n",
      "for value in life_exp_f_Swa:\n",
      "    if math.isnan(value):\n",
      "        life_exp_f_Swa.remove(value)\n",
      "        \n",
      "for value in life_exp_m_Swa:\n",
      "    if math.isnan(value):\n",
      "        life_exp_m_Swa.remove(value)"
     ],
     "language": "python",
     "metadata": {},
     "outputs": [],
     "prompt_number": 292
    },
    {
     "cell_type": "code",
     "collapsed": false,
     "input": [
      "pyplot.hist(life_exp_f_Swa)"
     ],
     "language": "python",
     "metadata": {},
     "outputs": [
      {
       "metadata": {},
       "output_type": "pyout",
       "prompt_number": 293,
       "text": [
        "(array([ 11.,   8.,   4.,   4.,   3.,   4.,   3.,   3.,   4.,   8.]),\n",
        " array([ 45.727 ,  47.2523,  48.7776,  50.3029,  51.8282,  53.3535,\n",
        "        54.8788,  56.4041,  57.9294,  59.4547,  60.98  ]),\n",
        " <a list of 10 Patch objects>)"
       ]
      },
      {
       "metadata": {},
       "output_type": "display_data",
       "png": "[encoded data removed]",
       "text": [
        "<matplotlib.figure.Figure at 0x10c3f25d0>"
       ]
      }
     ],
     "prompt_number": 293
    },
    {
     "cell_type": "code",
     "collapsed": false,
     "input": [
      "pyplot.hist(life_exp_m_Swa)"
     ],
     "language": "python",
     "metadata": {},
     "outputs": [
      {
       "metadata": {},
       "output_type": "pyout",
       "prompt_number": 294,
       "text": [
        "(array([ 6.,  3.,  8.,  8.,  5.,  3.,  4.,  3.,  5.,  7.]),\n",
        " array([ 42.33  ,  43.8756,  45.4212,  46.9668,  48.5124,  50.058 ,\n",
        "        51.6036,  53.1492,  54.6948,  56.2404,  57.786 ]),\n",
        " <a list of 10 Patch objects>)"
       ]
      },
      {
       "metadata": {},
       "output_type": "display_data",
       "png": "[encoded data removed]",
       "text": [
        "<matplotlib.figure.Figure at 0x10c622050>"
       ]
      }
     ],
     "prompt_number": 294
    },
    {
     "cell_type": "code",
     "collapsed": false,
     "input": [
      "plt.plot(life_exp_f_Swa)\n",
      "plt.plot(life_exp_m_Swa)"
     ],
     "language": "python",
     "metadata": {},
     "outputs": [
      {
       "metadata": {},
       "output_type": "pyout",
       "prompt_number": 295,
       "text": [
        "[<matplotlib.lines.Line2D at 0x10c6cd190>]"
       ]
      },
      {
       "metadata": {},
       "output_type": "display_data",
       "png": "[encoded data removed]",
       "text": [
        "<matplotlib.figure.Figure at 0x10c58e990>"
       ]
      }
     ],
     "prompt_number": 295
    },
    {
     "cell_type": "heading",
     "level": 2,
     "metadata": {},
     "source": [
      "South Africa"
     ]
    },
    {
     "cell_type": "code",
     "collapsed": false,
     "input": [
      "# arrays for country-specific year-by-year data\n",
      "life_exp_f_SA = []\n",
      "life_exp_m_SA = []\n",
      "\n",
      "# put country-specific data in arrays\n",
      "for country in life_exp_f:\n",
      "    if country[0] == \"South Africa\":\n",
      "        for year in country:\n",
      "            life_exp_f_SA.append(year)\n",
      "\n",
      "for country in life_exp_m:\n",
      "    if country[0] == \"South Africa\":\n",
      "        for year in country:\n",
      "            life_exp_m_SA.append(year)\n",
      "\n",
      "# remove the first three fields containing text descriptions (to make plotting possible)\n",
      "for text in life_exp_f_SA[0:4]:\n",
      "    life_exp_f_SA.remove(text)\n",
      "    \n",
      "for text in life_exp_m_SA[0:4]:\n",
      "    life_exp_m_SA.remove(text)\n",
      "\n",
      "# remove non-numeric (nan) values: generated by empty fields (missing data)    \n",
      "for value in life_exp_f_SA:\n",
      "    if math.isnan(value):\n",
      "        life_exp_f_SA.remove(value)\n",
      "        \n",
      "for value in life_exp_m_SA:\n",
      "    if math.isnan(value):\n",
      "        life_exp_m_SA.remove(value)"
     ],
     "language": "python",
     "metadata": {},
     "outputs": [],
     "prompt_number": 301
    },
    {
     "cell_type": "code",
     "collapsed": false,
     "input": [
      "pyplot.hist(life_exp_f_SA)"
     ],
     "language": "python",
     "metadata": {},
     "outputs": [
      {
       "metadata": {},
       "output_type": "pyout",
       "prompt_number": 302,
       "text": [
        "(array([ 6.,  8.,  6.,  4.,  4.,  4.,  3.,  5.,  3.,  9.]),\n",
        " array([ 50.83  ,  52.2816,  53.7332,  55.1848,  56.6364,  58.088 ,\n",
        "        59.5396,  60.9912,  62.4428,  63.8944,  65.346 ]),\n",
        " <a list of 10 Patch objects>)"
       ]
      },
      {
       "metadata": {},
       "output_type": "display_data",
       "png": "[encoded data removed]",
       "text": [
        "<matplotlib.figure.Figure at 0x10c922390>"
       ]
      }
     ],
     "prompt_number": 302
    },
    {
     "cell_type": "code",
     "collapsed": false,
     "input": [
      "pyplot.hist(life_exp_m_SA)"
     ],
     "language": "python",
     "metadata": {},
     "outputs": [
      {
       "metadata": {},
       "output_type": "pyout",
       "prompt_number": 303,
       "text": [
        "(array([ 4.,  4.,  9.,  8.,  5.,  3.,  3.,  3.,  5.,  8.]),\n",
        " array([ 47.328 ,  48.3886,  49.4492,  50.5098,  51.5704,  52.631 ,\n",
        "        53.6916,  54.7522,  55.8128,  56.8734,  57.934 ]),\n",
        " <a list of 10 Patch objects>)"
       ]
      },
      {
       "metadata": {},
       "output_type": "display_data",
       "png": "[encoded data removed]",
       "text": [
        "<matplotlib.figure.Figure at 0x10c756e50>"
       ]
      }
     ],
     "prompt_number": 303
    },
    {
     "cell_type": "code",
     "collapsed": false,
     "input": [
      "plt.plot(life_exp_f_SA)\n",
      "plt.plot(life_exp_m_SA)"
     ],
     "language": "python",
     "metadata": {},
     "outputs": [
      {
       "metadata": {},
       "output_type": "pyout",
       "prompt_number": 304,
       "text": [
        "[<matplotlib.lines.Line2D at 0x10ca65f90>]"
       ]
      },
      {
       "metadata": {},
       "output_type": "display_data",
       "png": "[encoded data removed]",
       "text": [
        "<matplotlib.figure.Figure at 0x10ca65850>"
       ]
      }
     ],
     "prompt_number": 304
    },
    {
     "cell_type": "heading",
     "level": 2,
     "metadata": {},
     "source": [
      "Russian Federation"
     ]
    },
    {
     "cell_type": "code",
     "collapsed": false,
     "input": [
      "# arrays for country-specific year-by-year data\n",
      "life_exp_f_RF = []\n",
      "life_exp_m_RF = []\n",
      "\n",
      "# put country-specific data in arrays\n",
      "for country in life_exp_f:\n",
      "    if country[0] == \"Russian Federation\":\n",
      "        for year in country:\n",
      "            life_exp_f_RF.append(year)\n",
      "\n",
      "for country in life_exp_m:\n",
      "    if country[0] == \"Russian Federation\":\n",
      "        for year in country:\n",
      "            life_exp_m_RF.append(year)\n",
      "\n",
      "# remove the first three fields containing text descriptions (to make plotting possible)\n",
      "for text in life_exp_f_RF[0:4]:\n",
      "    life_exp_f_RF.remove(text)\n",
      "    \n",
      "for text in life_exp_m_RF[0:4]:\n",
      "    life_exp_m_RF.remove(text)\n",
      "\n",
      "# remove non-numeric (nan) values: generated by empty fields (missing data)    \n",
      "for value in life_exp_f_RF:\n",
      "    if math.isnan(value):\n",
      "        life_exp_f_RF.remove(value)\n",
      "        \n",
      "for value in life_exp_m_RF:\n",
      "    if math.isnan(value):\n",
      "        life_exp_m_RF.remove(value)"
     ],
     "language": "python",
     "metadata": {},
     "outputs": [],
     "prompt_number": 23
    },
    {
     "cell_type": "code",
     "collapsed": false,
     "input": [
      "pyplot.hist(life_exp_f_RF)"
     ],
     "language": "python",
     "metadata": {},
     "outputs": [
      {
       "metadata": {},
       "output_type": "pyout",
       "prompt_number": 24,
       "text": [
        "(array([  2.,   2.,   6.,   5.,   6.,  13.,   9.,   4.,   3.,   2.]),\n",
        " array([ 71.2 ,  71.59,  71.98,  72.37,  72.76,  73.15,  73.54,  73.93,\n",
        "        74.32,  74.71,  75.1 ]),\n",
        " <a list of 10 Patch objects>)"
       ]
      },
      {
       "metadata": {},
       "output_type": "display_data",
       "png": "[encoded data removed]",
       "text": [
        "<matplotlib.figure.Figure at 0x10323f2d0>"
       ]
      }
     ],
     "prompt_number": 24
    },
    {
     "cell_type": "code",
     "collapsed": false,
     "input": [
      "pyplot.hist(life_exp_m_RF)"
     ],
     "language": "python",
     "metadata": {},
     "outputs": [
      {
       "metadata": {},
       "output_type": "pyout",
       "prompt_number": 25,
       "text": [
        "(array([  2.,   7.,   0.,   3.,   1.,   9.,   5.,   9.,  10.,   6.]),\n",
        " array([ 57.55 ,  58.279,  59.008,  59.737,  60.466,  61.195,  61.924,\n",
        "        62.653,  63.382,  64.111,  64.84 ]),\n",
        " <a list of 10 Patch objects>)"
       ]
      },
      {
       "metadata": {},
       "output_type": "display_data",
       "png": "[encoded data removed]",
       "text": [
        "<matplotlib.figure.Figure at 0x102edb2d0>"
       ]
      }
     ],
     "prompt_number": 25
    },
    {
     "cell_type": "code",
     "collapsed": false,
     "input": [
      "plt.plot(life_exp_f_RF)\n",
      "plt.plot(life_exp_m_RF)"
     ],
     "language": "python",
     "metadata": {},
     "outputs": [
      {
       "metadata": {},
       "output_type": "pyout",
       "prompt_number": 26,
       "text": [
        "[<matplotlib.lines.Line2D at 0x1031a4f90>]"
       ]
      },
      {
       "metadata": {},
       "output_type": "display_data",
       "png": "[encoded data removed]",
       "text": [
        "<matplotlib.figure.Figure at 0x10323e210>"
       ]
      }
     ],
     "prompt_number": 26
    },
    {
     "cell_type": "code",
     "collapsed": false,
     "input": [
      "median(life_exp_f_RF)"
     ],
     "language": "python",
     "metadata": {},
     "outputs": [
      {
       "metadata": {},
       "output_type": "pyout",
       "prompt_number": 27,
       "text": [
        "73.230000000000004"
       ]
      }
     ],
     "prompt_number": 27
    },
    {
     "cell_type": "code",
     "collapsed": false,
     "input": [
      "median(life_exp_m_RF)"
     ],
     "language": "python",
     "metadata": {},
     "outputs": [
      {
       "metadata": {},
       "output_type": "pyout",
       "prompt_number": 28,
       "text": [
        "62.364999999999995"
       ]
      }
     ],
     "prompt_number": 28
    },
    {
     "cell_type": "heading",
     "level": 2,
     "metadata": {},
     "source": [
      "Ukraine"
     ]
    },
    {
     "cell_type": "code",
     "collapsed": false,
     "input": [
      "# arrays for country-specific year-by-year data\n",
      "life_exp_f_Ukr = []\n",
      "life_exp_m_Ukr = []\n",
      "\n",
      "# put country-specific data in arrays\n",
      "for country in life_exp_f:\n",
      "    if country[0] == \"Ukraine\":\n",
      "        for year in country:\n",
      "            life_exp_f_Ukr.append(year)\n",
      "\n",
      "for country in life_exp_m:\n",
      "    if country[0] == \"Ukraine\":\n",
      "        for year in country:\n",
      "            life_exp_m_Ukr.append(year)\n",
      "\n",
      "# remove the first three fields containing text descriptions (to make plotting possible)\n",
      "for text in life_exp_f_Ukr[0:4]:\n",
      "    life_exp_f_Ukr.remove(text)\n",
      "    \n",
      "for text in life_exp_m_Ukr[0:4]:\n",
      "    life_exp_m_Ukr.remove(text)\n",
      "\n",
      "# remove non-numeric (nan) values: generated by empty fields (missing data)    \n",
      "for value in life_exp_f_Ukr:\n",
      "    if math.isnan(value):\n",
      "        life_exp_f_Ukr.remove(value)\n",
      "        \n",
      "for value in life_exp_m_Ukr:\n",
      "    if math.isnan(value):\n",
      "        life_exp_m_Ukr.remove(value)"
     ],
     "language": "python",
     "metadata": {},
     "outputs": [],
     "prompt_number": 10
    },
    {
     "cell_type": "code",
     "collapsed": false,
     "input": [
      "plt.plot(life_exp_f_Ukr)\n",
      "plt.plot(life_exp_m_Ukr)"
     ],
     "language": "python",
     "metadata": {},
     "outputs": [
      {
       "metadata": {},
       "output_type": "pyout",
       "prompt_number": 11,
       "text": [
        "[<matplotlib.lines.Line2D at 0x1124b9a10>]"
       ]
      },
      {
       "metadata": {},
       "output_type": "display_data",
       "png": "[encoded data removed]",
       "text": [
        "<matplotlib.figure.Figure at 0x1124b9950>"
       ]
      }
     ],
     "prompt_number": 11
    },
    {
     "cell_type": "code",
     "collapsed": false,
     "input": [
      "min(life_exp_f_Ukr)"
     ],
     "language": "python",
     "metadata": {},
     "outputs": [
      {
       "metadata": {},
       "output_type": "pyout",
       "prompt_number": 12,
       "text": [
        "72.700000000000003"
       ]
      }
     ],
     "prompt_number": 12
    },
    {
     "cell_type": "code",
     "collapsed": false,
     "input": [
      "min(life_exp_m_Ukr)"
     ],
     "language": "python",
     "metadata": {},
     "outputs": [
      {
       "metadata": {},
       "output_type": "pyout",
       "prompt_number": 14,
       "text": [
        "61.799999999999997"
       ]
      }
     ],
     "prompt_number": 14
    },
    {
     "cell_type": "code",
     "collapsed": false,
     "input": [
      "median(life_exp_f_Ukr)"
     ],
     "language": "python",
     "metadata": {},
     "outputs": [
      {
       "metadata": {},
       "output_type": "pyout",
       "prompt_number": 15,
       "text": [
        "74.055000000000007"
       ]
      }
     ],
     "prompt_number": 15
    },
    {
     "cell_type": "code",
     "collapsed": false,
     "input": [
      "median(life_exp_m_Ukr)"
     ],
     "language": "python",
     "metadata": {},
     "outputs": [
      {
       "metadata": {},
       "output_type": "pyout",
       "prompt_number": 16,
       "text": [
        "64.523499999999999"
       ]
      }
     ],
     "prompt_number": 16
    },
    {
     "cell_type": "code",
     "collapsed": false,
     "input": [
      "max(life_exp_f_Ukr)"
     ],
     "language": "python",
     "metadata": {},
     "outputs": [
      {
       "metadata": {},
       "output_type": "pyout",
       "prompt_number": 17,
       "text": [
        "75.879999999999995"
       ]
      }
     ],
     "prompt_number": 17
    },
    {
     "cell_type": "code",
     "collapsed": false,
     "input": [
      "max(life_exp_m_Ukr)"
     ],
     "language": "python",
     "metadata": {},
     "outputs": [
      {
       "metadata": {},
       "output_type": "pyout",
       "prompt_number": 18,
       "text": [
        "67.614999999999995"
       ]
      }
     ],
     "prompt_number": 18
    },
    {
     "cell_type": "heading",
     "level": 2,
     "metadata": {},
     "source": [
      "Belorussia"
     ]
    },
    {
     "cell_type": "code",
     "collapsed": false,
     "input": [
      "# arrays for country-specific year-by-year data\n",
      "life_exp_f_Bel = []\n",
      "life_exp_m_Bel = []\n",
      "\n",
      "# put country-specific data in arrays\n",
      "for country in life_exp_f:\n",
      "    if country[0] == \"Belarus\":\n",
      "        for year in country:\n",
      "            life_exp_f_Bel.append(year)\n",
      "\n",
      "for country in life_exp_m:\n",
      "    if country[0] == \"Belarus\":\n",
      "        for year in country:\n",
      "            life_exp_m_Bel.append(year)\n",
      "\n",
      "# remove the first three fields containing text descriptions (to make plotting possible)\n",
      "for text in life_exp_f_Bel[0:4]:\n",
      "    life_exp_f_Bel.remove(text)\n",
      "    \n",
      "for text in life_exp_m_Bel[0:4]:\n",
      "    life_exp_m_Bel.remove(text)\n",
      "\n",
      "# remove non-numeric (nan) values: generated by empty fields (missing data)    \n",
      "for value in life_exp_f_Bel:\n",
      "    if math.isnan(value):\n",
      "        life_exp_f_Bel.remove(value)\n",
      "        \n",
      "for value in life_exp_m_Bel:\n",
      "    if math.isnan(value):\n",
      "        life_exp_m_Bel.remove(value)"
     ],
     "language": "python",
     "metadata": {},
     "outputs": [],
     "prompt_number": 24
    },
    {
     "cell_type": "code",
     "collapsed": false,
     "input": [
      "plt.plot(life_exp_f_Bel)\n",
      "plt.plot(life_exp_m_Bel)"
     ],
     "language": "python",
     "metadata": {},
     "outputs": [
      {
       "metadata": {},
       "output_type": "pyout",
       "prompt_number": 25,
       "text": [
        "[<matplotlib.lines.Line2D at 0x111df1810>]"
       ]
      },
      {
       "metadata": {},
       "output_type": "display_data",
       "png": "[encoded data removed]",
       "text": [
        "<matplotlib.figure.Figure at 0x111df13d0>"
       ]
      }
     ],
     "prompt_number": 25
    },
    {
     "cell_type": "code",
     "collapsed": false,
     "input": [
      "min(life_exp_f_Bel)"
     ],
     "language": "python",
     "metadata": {},
     "outputs": [
      {
       "metadata": {},
       "output_type": "pyout",
       "prompt_number": 26,
       "text": [
        "72.835999999999999"
       ]
      }
     ],
     "prompt_number": 26
    },
    {
     "cell_type": "code",
     "collapsed": false,
     "input": [
      "min(life_exp_m_Bel)"
     ],
     "language": "python",
     "metadata": {},
     "outputs": [
      {
       "metadata": {},
       "output_type": "pyout",
       "prompt_number": 27,
       "text": [
        "62.200000000000003"
       ]
      }
     ],
     "prompt_number": 27
    },
    {
     "cell_type": "code",
     "collapsed": false,
     "input": [
      "max(life_exp_f_Bel)"
     ],
     "language": "python",
     "metadata": {},
     "outputs": [
      {
       "metadata": {},
       "output_type": "pyout",
       "prompt_number": 28,
       "text": [
        "76.900000000000006"
       ]
      }
     ],
     "prompt_number": 28
    },
    {
     "cell_type": "code",
     "collapsed": false,
     "input": [
      "max(life_exp_m_Bel)"
     ],
     "language": "python",
     "metadata": {},
     "outputs": [
      {
       "metadata": {},
       "output_type": "pyout",
       "prompt_number": 29,
       "text": [
        "67.329999999999998"
       ]
      }
     ],
     "prompt_number": 29
    },
    {
     "cell_type": "code",
     "collapsed": false,
     "input": [
      "median(life_exp_f_Bel)"
     ],
     "language": "python",
     "metadata": {},
     "outputs": [
      {
       "metadata": {},
       "output_type": "pyout",
       "prompt_number": 30,
       "text": [
        "75.287000000000006"
       ]
      }
     ],
     "prompt_number": 30
    },
    {
     "cell_type": "code",
     "collapsed": false,
     "input": [
      "median(life_exp_m_Bel)"
     ],
     "language": "python",
     "metadata": {},
     "outputs": [
      {
       "metadata": {},
       "output_type": "pyout",
       "prompt_number": 31,
       "text": [
        "65.253500000000003"
       ]
      }
     ],
     "prompt_number": 31
    },
    {
     "cell_type": "heading",
     "level": 2,
     "metadata": {},
     "source": [
      "Moldova"
     ]
    },
    {
     "cell_type": "code",
     "collapsed": false,
     "input": [
      "# arrays for country-specific year-by-year data\n",
      "life_exp_f_Mol = []\n",
      "life_exp_m_Mol = []\n",
      "\n",
      "# put country-specific data in arrays\n",
      "for country in life_exp_f:\n",
      "    if country[0] == \"Moldova\":\n",
      "        for year in country:\n",
      "            life_exp_f_Mol.append(year)\n",
      "\n",
      "for country in life_exp_m:\n",
      "    if country[0] == \"Moldova\":\n",
      "        for year in country:\n",
      "            life_exp_m_Mol.append(year)\n",
      "\n",
      "# remove the first three fields containing text descriptions (to make plotting possible)\n",
      "for text in life_exp_f_Mol[0:4]:\n",
      "    life_exp_f_Mol.remove(text)\n",
      "    \n",
      "for text in life_exp_m_Mol[0:4]:\n",
      "    life_exp_m_Mol.remove(text)\n",
      "\n",
      "# remove non-numeric (nan) values: generated by empty fields (missing data)    \n",
      "for value in life_exp_f_Mol:\n",
      "    if math.isnan(value):\n",
      "        life_exp_f_Mol.remove(value)\n",
      "        \n",
      "for value in life_exp_m_Mol:\n",
      "    if math.isnan(value):\n",
      "        life_exp_m_Mol.remove(value)"
     ],
     "language": "python",
     "metadata": {},
     "outputs": [],
     "prompt_number": 33
    },
    {
     "cell_type": "code",
     "collapsed": false,
     "input": [
      "plt.plot(life_exp_f_Mol)\n",
      "plt.plot(life_exp_m_Mol)"
     ],
     "language": "python",
     "metadata": {},
     "outputs": [
      {
       "metadata": {},
       "output_type": "pyout",
       "prompt_number": 34,
       "text": [
        "[<matplotlib.lines.Line2D at 0x111a6c290>]"
       ]
      },
      {
       "metadata": {},
       "output_type": "display_data",
       "png": "[encoded data removed]",
       "text": [
        "<matplotlib.figure.Figure at 0x111a6c250>"
       ]
      }
     ],
     "prompt_number": 34
    },
    {
     "cell_type": "code",
     "collapsed": false,
     "input": [
      "min(life_exp_f_Mol)"
     ],
     "language": "python",
     "metadata": {},
     "outputs": [
      {
       "metadata": {},
       "output_type": "pyout",
       "prompt_number": 35,
       "text": [
        "65.792000000000002"
       ]
      }
     ],
     "prompt_number": 35
    },
    {
     "cell_type": "code",
     "collapsed": false,
     "input": [
      "min(life_exp_m_Mol)"
     ],
     "language": "python",
     "metadata": {},
     "outputs": [
      {
       "metadata": {},
       "output_type": "pyout",
       "prompt_number": 36,
       "text": [
        "58.003999999999998"
       ]
      }
     ],
     "prompt_number": 36
    },
    {
     "cell_type": "code",
     "collapsed": false,
     "input": [
      "max(life_exp_f_Mol)"
     ],
     "language": "python",
     "metadata": {},
     "outputs": [
      {
       "metadata": {},
       "output_type": "pyout",
       "prompt_number": 37,
       "text": [
        "73.015000000000001"
       ]
      }
     ],
     "prompt_number": 37
    },
    {
     "cell_type": "code",
     "collapsed": false,
     "input": [
      "max(life_exp_m_Mol)"
     ],
     "language": "python",
     "metadata": {},
     "outputs": [
      {
       "metadata": {},
       "output_type": "pyout",
       "prompt_number": 39,
       "text": [
        "65.590999999999994"
       ]
      }
     ],
     "prompt_number": 39
    },
    {
     "cell_type": "code",
     "collapsed": false,
     "input": [
      "median(life_exp_f_Mol)"
     ],
     "language": "python",
     "metadata": {},
     "outputs": [
      {
       "metadata": {},
       "output_type": "pyout",
       "prompt_number": 40,
       "text": [
        "69.697000000000003"
       ]
      }
     ],
     "prompt_number": 40
    },
    {
     "cell_type": "code",
     "collapsed": false,
     "input": [
      "median(life_exp_m_Mol)"
     ],
     "language": "python",
     "metadata": {},
     "outputs": [
      {
       "metadata": {},
       "output_type": "pyout",
       "prompt_number": 41,
       "text": [
        "62.775000000000006"
       ]
      }
     ],
     "prompt_number": 41
    },
    {
     "cell_type": "heading",
     "level": 2,
     "metadata": {},
     "source": [
      "Italy"
     ]
    },
    {
     "cell_type": "code",
     "collapsed": false,
     "input": [
      "# arrays for country-specific year-by-year data\n",
      "life_exp_f_Ita = []\n",
      "life_exp_m_Ita = []\n",
      "\n",
      "# put country-specific data in arrays\n",
      "for country in life_exp_f:\n",
      "    if country[0] == \"Italy\":\n",
      "        for year in country:\n",
      "            life_exp_f_Ita.append(year)\n",
      "\n",
      "for country in life_exp_m:\n",
      "    if country[0] == \"Italy\":\n",
      "        for year in country:\n",
      "            life_exp_m_Ita.append(year)\n",
      "\n",
      "# remove the first three fields containing text descriptions (to make plotting possible)\n",
      "for text in life_exp_f_Ita[0:4]:\n",
      "    life_exp_f_Ita.remove(text)\n",
      "    \n",
      "for text in life_exp_m_Ita[0:4]:\n",
      "    life_exp_m_Ita.remove(text)\n",
      "\n",
      "# remove non-numeric (nan) values: generated by empty fields (missing data)    \n",
      "for value in life_exp_f_Ita:\n",
      "    if math.isnan(value):\n",
      "        life_exp_f_Ita.remove(value)\n",
      "        \n",
      "for value in life_exp_m_Ita:\n",
      "    if math.isnan(value):\n",
      "        life_exp_m_Ita.remove(value)"
     ],
     "language": "python",
     "metadata": {},
     "outputs": [],
     "prompt_number": 6
    },
    {
     "cell_type": "code",
     "collapsed": false,
     "input": [
      "plt.plot(life_exp_f_Ita)\n",
      "plt.plot(life_exp_m_Ita)"
     ],
     "language": "python",
     "metadata": {},
     "outputs": [
      {
       "metadata": {},
       "output_type": "pyout",
       "prompt_number": 7,
       "text": [
        "[<matplotlib.lines.Line2D at 0x102ebb790>]"
       ]
      },
      {
       "metadata": {},
       "output_type": "display_data",
       "png": "[encoded data removed]",
       "text": [
        "<matplotlib.figure.Figure at 0x102ebb850>"
       ]
      }
     ],
     "prompt_number": 7
    },
    {
     "cell_type": "code",
     "collapsed": false,
     "input": [
      "median(life_exp_f_Ita)"
     ],
     "language": "python",
     "metadata": {},
     "outputs": [
      {
       "metadata": {},
       "output_type": "pyout",
       "prompt_number": 16,
       "text": [
        "78.990000000000009"
       ]
      }
     ],
     "prompt_number": 16
    },
    {
     "cell_type": "code",
     "collapsed": false,
     "input": [
      "median(life_exp_m_Ita)"
     ],
     "language": "python",
     "metadata": {},
     "outputs": [
      {
       "metadata": {},
       "output_type": "pyout",
       "prompt_number": 17,
       "text": [
        "72.474999999999994"
       ]
      }
     ],
     "prompt_number": 17
    },
    {
     "cell_type": "heading",
     "level": 2,
     "metadata": {},
     "source": [
      "Germany"
     ]
    },
    {
     "cell_type": "code",
     "collapsed": false,
     "input": [
      "# arrays for country-specific year-by-year data\n",
      "life_exp_f_Ger = []\n",
      "life_exp_m_Ger = []\n",
      "\n",
      "# put country-specific data in arrays\n",
      "for country in life_exp_f:\n",
      "    if country[0] == \"Germany\":\n",
      "        for year in country:\n",
      "            life_exp_f_Ger.append(year)\n",
      "\n",
      "for country in life_exp_m:\n",
      "    if country[0] == \"Germany\":\n",
      "        for year in country:\n",
      "            life_exp_m_Ger.append(year)\n",
      "\n",
      "# remove the first three fields containing text descriptions (to make plotting possible)\n",
      "for text in life_exp_f_Ger[0:4]:\n",
      "    life_exp_f_Ger.remove(text)\n",
      "    \n",
      "for text in life_exp_m_Ger[0:4]:\n",
      "    life_exp_m_Ger.remove(text)\n",
      "\n",
      "# remove non-numeric (nan) values: generated by empty fields (missing data)    \n",
      "for value in life_exp_f_Ger:\n",
      "    if math.isnan(value):\n",
      "        life_exp_f_Ger.remove(value)\n",
      "        \n",
      "for value in life_exp_m_Ger:\n",
      "    if math.isnan(value):\n",
      "        life_exp_m_Ger.remove(value)"
     ],
     "language": "python",
     "metadata": {},
     "outputs": [],
     "prompt_number": 11
    },
    {
     "cell_type": "code",
     "collapsed": false,
     "input": [
      "plt.plot(life_exp_f_Ger)\n",
      "plt.plot(life_exp_m_Ger)"
     ],
     "language": "python",
     "metadata": {},
     "outputs": [
      {
       "metadata": {},
       "output_type": "pyout",
       "prompt_number": 19,
       "text": [
        "[<matplotlib.lines.Line2D at 0x1032e9d50>]"
       ]
      },
      {
       "metadata": {},
       "output_type": "display_data",
       "png": "[encoded data removed]",
       "text": [
        "<matplotlib.figure.Figure at 0x102ebb350>"
       ]
      }
     ],
     "prompt_number": 19
    },
    {
     "cell_type": "code",
     "collapsed": false,
     "input": [
      "min(life_exp_f_Ger)"
     ],
     "language": "python",
     "metadata": {},
     "outputs": [
      {
       "metadata": {},
       "output_type": "pyout",
       "prompt_number": 12,
       "text": [
        "72.296000000000006"
       ]
      }
     ],
     "prompt_number": 12
    },
    {
     "cell_type": "code",
     "collapsed": false,
     "input": [
      "min(life_exp_m_Ger)"
     ],
     "language": "python",
     "metadata": {},
     "outputs": [
      {
       "metadata": {},
       "output_type": "pyout",
       "prompt_number": 13,
       "text": [
        "67.072000000000003"
       ]
      }
     ],
     "prompt_number": 13
    },
    {
     "cell_type": "code",
     "collapsed": false,
     "input": [
      "median(life_exp_f_Ger)"
     ],
     "language": "python",
     "metadata": {},
     "outputs": [
      {
       "metadata": {},
       "output_type": "pyout",
       "prompt_number": 20,
       "text": [
        "77.628999999999991"
       ]
      }
     ],
     "prompt_number": 20
    },
    {
     "cell_type": "code",
     "collapsed": false,
     "input": [
      "median(life_exp_m_Ger)"
     ],
     "language": "python",
     "metadata": {},
     "outputs": [
      {
       "metadata": {},
       "output_type": "pyout",
       "prompt_number": 21,
       "text": [
        "71.17349999999999"
       ]
      }
     ],
     "prompt_number": 21
    },
    {
     "cell_type": "heading",
     "level": 2,
     "metadata": {},
     "source": [
      "United States"
     ]
    },
    {
     "cell_type": "code",
     "collapsed": false,
     "input": [
      "# arrays for country-specific year-by-year data\n",
      "life_exp_f_US = []\n",
      "life_exp_m_US = []\n",
      "\n",
      "# put country-specific data in arrays\n",
      "for country in life_exp_f:\n",
      "    if country[0] == \"United States\":\n",
      "        for year in country:\n",
      "            life_exp_f_US.append(year)\n",
      "\n",
      "for country in life_exp_m:\n",
      "    if country[0] == \"United States\":\n",
      "        for year in country:\n",
      "            life_exp_m_US.append(year)\n",
      "\n",
      "# remove the first three fields containing text descriptions (to make plotting possible)\n",
      "for text in life_exp_f_US[0:4]:\n",
      "    life_exp_f_US.remove(text)\n",
      "    \n",
      "for text in life_exp_m_US[0:4]:\n",
      "    life_exp_m_US.remove(text)\n",
      "\n",
      "# remove non-numeric (nan) values: generated by empty fields (missing data)    \n",
      "for value in life_exp_f_US:\n",
      "    if math.isnan(value):\n",
      "        life_exp_f_US.remove(value)\n",
      "        \n",
      "for value in life_exp_m_US:\n",
      "    if math.isnan(value):\n",
      "        life_exp_m_US.remove(value)"
     ],
     "language": "python",
     "metadata": {},
     "outputs": [],
     "prompt_number": 29
    },
    {
     "cell_type": "code",
     "collapsed": false,
     "input": [
      "plt.plot(life_exp_f_US)\n",
      "plt.plot(life_exp_m_US)"
     ],
     "language": "python",
     "metadata": {},
     "outputs": [
      {
       "metadata": {},
       "output_type": "pyout",
       "prompt_number": 30,
       "text": [
        "[<matplotlib.lines.Line2D at 0x1031b2410>]"
       ]
      },
      {
       "metadata": {},
       "output_type": "display_data",
       "png": "[encoded data removed]",
       "text": [
        "<matplotlib.figure.Figure at 0x1031b2290>"
       ]
      }
     ],
     "prompt_number": 30
    },
    {
     "cell_type": "code",
     "collapsed": false,
     "input": [
      "median(life_exp_f_US)"
     ],
     "language": "python",
     "metadata": {},
     "outputs": [
      {
       "metadata": {},
       "output_type": "pyout",
       "prompt_number": 31,
       "text": [
        "78.200000000000003"
       ]
      }
     ],
     "prompt_number": 31
    },
    {
     "cell_type": "code",
     "collapsed": false,
     "input": [
      "median(life_exp_m_US)"
     ],
     "language": "python",
     "metadata": {},
     "outputs": [
      {
       "metadata": {},
       "output_type": "pyout",
       "prompt_number": 32,
       "text": [
        "71.150000000000006"
       ]
      }
     ],
     "prompt_number": 32
    },
    {
     "cell_type": "code",
     "collapsed": false,
     "input": [
      "max(life_exp_f_US)"
     ],
     "language": "python",
     "metadata": {},
     "outputs": [
      {
       "metadata": {},
       "output_type": "pyout",
       "prompt_number": 33,
       "text": [
        "81.099999999999994"
       ]
      }
     ],
     "prompt_number": 33
    },
    {
     "cell_type": "code",
     "collapsed": false,
     "input": [
      "max(life_exp_m_US)"
     ],
     "language": "python",
     "metadata": {},
     "outputs": [
      {
       "metadata": {},
       "output_type": "pyout",
       "prompt_number": 34,
       "text": [
        "76.299999999999997"
       ]
      }
     ],
     "prompt_number": 34
    },
    {
     "cell_type": "heading",
     "level": 2,
     "metadata": {},
     "source": [
      "Turkey"
     ]
    },
    {
     "cell_type": "code",
     "collapsed": false,
     "input": [
      "# arrays for country-specific year-by-year data\n",
      "life_exp_f_Tur = []\n",
      "life_exp_m_Tur = []\n",
      "\n",
      "# put country-specific data in arrays\n",
      "for country in life_exp_f:\n",
      "    if country[0] == \"Turkey\":\n",
      "        for year in country:\n",
      "            life_exp_f_Tur.append(year)\n",
      "\n",
      "for country in life_exp_m:\n",
      "    if country[0] == \"Turkey\":\n",
      "        for year in country:\n",
      "            life_exp_m_Tur.append(year)\n",
      "\n",
      "# remove the first three fields containing text descriptions (to make plotting possible)\n",
      "for text in life_exp_f_Tur[0:4]:\n",
      "    life_exp_f_Tur.remove(text)\n",
      "    \n",
      "for text in life_exp_m_Tur[0:4]:\n",
      "    life_exp_m_Tur.remove(text)\n",
      "\n",
      "# remove non-numeric (nan) values: generated by empty fields (missing data)    \n",
      "for value in life_exp_f_Tur:\n",
      "    if math.isnan(value):\n",
      "        life_exp_f_Tur.remove(value)\n",
      "        \n",
      "for value in life_exp_m_Tur:\n",
      "    if math.isnan(value):\n",
      "        life_exp_m_Tur.remove(value)"
     ],
     "language": "python",
     "metadata": {},
     "outputs": [],
     "prompt_number": 35
    },
    {
     "cell_type": "code",
     "collapsed": false,
     "input": [
      "plt.plot(life_exp_f_Tur)\n",
      "plt.plot(life_exp_m_Tur)"
     ],
     "language": "python",
     "metadata": {},
     "outputs": [
      {
       "metadata": {},
       "output_type": "pyout",
       "prompt_number": 36,
       "text": [
        "[<matplotlib.lines.Line2D at 0x102e506d0>]"
       ]
      },
      {
       "metadata": {},
       "output_type": "display_data",
       "png": "[encoded data removed]",
       "text": [
        "<matplotlib.figure.Figure at 0x102e50650>"
       ]
      }
     ],
     "prompt_number": 36
    },
    {
     "cell_type": "code",
     "collapsed": false,
     "input": [
      "median(life_exp_f_Tur)"
     ],
     "language": "python",
     "metadata": {},
     "outputs": [
      {
       "metadata": {},
       "output_type": "pyout",
       "prompt_number": 37,
       "text": [
        "62.593499999999999"
       ]
      }
     ],
     "prompt_number": 37
    },
    {
     "cell_type": "code",
     "collapsed": false,
     "input": [
      "median(life_exp_m_Tur)"
     ],
     "language": "python",
     "metadata": {},
     "outputs": [
      {
       "metadata": {},
       "output_type": "pyout",
       "prompt_number": 38,
       "text": [
        "58.385999999999996"
       ]
      }
     ],
     "prompt_number": 38
    },
    {
     "cell_type": "heading",
     "level": 2,
     "metadata": {},
     "source": [
      "Iraq"
     ]
    },
    {
     "cell_type": "code",
     "collapsed": false,
     "input": [
      "# arrays for country-specific year-by-year data\n",
      "life_exp_f_Iraq = []\n",
      "life_exp_m_Iraq = []\n",
      "\n",
      "# put country-specific data in arrays\n",
      "for country in life_exp_f:\n",
      "    if country[0] == \"Iraq\":\n",
      "        for year in country:\n",
      "            life_exp_f_Iraq.append(year)\n",
      "\n",
      "for country in life_exp_m:\n",
      "    if country[0] == \"Iraq\":\n",
      "        for year in country:\n",
      "            life_exp_m_Iraq.append(year)\n",
      "\n",
      "# remove the first three fields containing text descriptions (to make plotting possible)\n",
      "for text in life_exp_f_Iraq[0:4]:\n",
      "    life_exp_f_Iraq.remove(text)\n",
      "    \n",
      "for text in life_exp_m_Iraq[0:4]:\n",
      "    life_exp_m_Iraq.remove(text)\n",
      "\n",
      "# remove non-numeric (nan) values: generated by empty fields (missing data)    \n",
      "for value in life_exp_f_Iraq:\n",
      "    if math.isnan(value):\n",
      "        life_exp_f_Iraq.remove(value)\n",
      "        \n",
      "for value in life_exp_m_Iraq:\n",
      "    if math.isnan(value):\n",
      "        life_exp_m_Iraq.remove(value)"
     ],
     "language": "python",
     "metadata": {},
     "outputs": [],
     "prompt_number": 41
    },
    {
     "cell_type": "code",
     "collapsed": false,
     "input": [
      "plt.plot(life_exp_f_Iraq)\n",
      "plt.plot(life_exp_m_Iraq)"
     ],
     "language": "python",
     "metadata": {},
     "outputs": [
      {
       "metadata": {},
       "output_type": "pyout",
       "prompt_number": 42,
       "text": [
        "[<matplotlib.lines.Line2D at 0x10303c2d0>]"
       ]
      },
      {
       "metadata": {},
       "output_type": "display_data",
       "png": "[encoded data removed]",
       "text": [
        "<matplotlib.figure.Figure at 0x10303c290>"
       ]
      }
     ],
     "prompt_number": 42
    },
    {
     "cell_type": "heading",
     "level": 2,
     "metadata": {},
     "source": [
      "Iran"
     ]
    },
    {
     "cell_type": "code",
     "collapsed": false,
     "input": [
      "# arrays for country-specific year-by-year data\n",
      "life_exp_f_Iran = []\n",
      "life_exp_m_Iran = []\n",
      "\n",
      "# put country-specific data in arrays\n",
      "for country in life_exp_f:\n",
      "    if country[0] == \"Iran, Islamic Rep.\":\n",
      "        for year in country:\n",
      "            life_exp_f_Iran.append(year)\n",
      "\n",
      "for country in life_exp_m:\n",
      "    if country[0] == \"Iran, Islamic Rep.\":\n",
      "        for year in country:\n",
      "            life_exp_m_Iran.append(year)\n",
      "\n",
      "# remove the first three fields containing text descriptions (to make plotting possible)\n",
      "for text in life_exp_f_Iran[0:4]:\n",
      "    life_exp_f_Iran.remove(text)\n",
      "    \n",
      "for text in life_exp_m_Iran[0:4]:\n",
      "    life_exp_m_Iran.remove(text)\n",
      "\n",
      "# remove non-numeric (nan) values: generated by empty fields (missing data)    \n",
      "for value in life_exp_f_Iran:\n",
      "    if math.isnan(value):\n",
      "        life_exp_f_Iran.remove(value)\n",
      "        \n",
      "for value in life_exp_m_Iran:\n",
      "    if math.isnan(value):\n",
      "        life_exp_m_Iran.remove(value)"
     ],
     "language": "python",
     "metadata": {},
     "outputs": [],
     "prompt_number": 52
    },
    {
     "cell_type": "code",
     "collapsed": false,
     "input": [
      "plt.plot(life_exp_f_Iran)\n",
      "plt.plot(life_exp_m_Iran)"
     ],
     "language": "python",
     "metadata": {},
     "outputs": [
      {
       "metadata": {},
       "output_type": "pyout",
       "prompt_number": 53,
       "text": [
        "[<matplotlib.lines.Line2D at 0x10321fed0>]"
       ]
      },
      {
       "metadata": {},
       "output_type": "display_data",
       "png": "[encoded data removed]",
       "text": [
        "<matplotlib.figure.Figure at 0x102fc36d0>"
       ]
      }
     ],
     "prompt_number": 53
    },
    {
     "cell_type": "heading",
     "level": 2,
     "metadata": {},
     "source": [
      "Syria"
     ]
    },
    {
     "cell_type": "code",
     "collapsed": false,
     "input": [
      "# Syrian Arab Republic\n",
      "\n",
      "# arrays for country-specific year-by-year data\n",
      "life_exp_f_Syr = []\n",
      "life_exp_m_Syr = []\n",
      "\n",
      "# put country-specific data in arrays\n",
      "for country in life_exp_f:\n",
      "    if country[0] == \"Syrian Arab Republic\":\n",
      "        for year in country:\n",
      "            life_exp_f_Syr.append(year)\n",
      "\n",
      "for country in life_exp_m:\n",
      "    if country[0] == \"Syrian Arab Republic\":\n",
      "        for year in country:\n",
      "            life_exp_m_Syr.append(year)\n",
      "\n",
      "# remove the first three fields containing text descriptions (to make plotting possible)\n",
      "for text in life_exp_f_Syr[0:4]:\n",
      "    life_exp_f_Syr.remove(text)\n",
      "    \n",
      "for text in life_exp_m_Syr[0:4]:\n",
      "    life_exp_m_Syr.remove(text)\n",
      "\n",
      "# remove non-numeric (nan) values: generated by empty fields (missing data)    \n",
      "for value in life_exp_f_Syr:\n",
      "    if math.isnan(value):\n",
      "        life_exp_f_Syr.remove(value)\n",
      "        \n",
      "for value in life_exp_m_Syr:\n",
      "    if math.isnan(value):\n",
      "        life_exp_m_Syr.remove(value)"
     ],
     "language": "python",
     "metadata": {},
     "outputs": [],
     "prompt_number": 57
    },
    {
     "cell_type": "code",
     "collapsed": false,
     "input": [
      "plt.plot(life_exp_f_Syr)\n",
      "plt.plot(life_exp_m_Syr)"
     ],
     "language": "python",
     "metadata": {},
     "outputs": [
      {
       "metadata": {},
       "output_type": "pyout",
       "prompt_number": 58,
       "text": [
        "[<matplotlib.lines.Line2D at 0x10452e850>]"
       ]
      },
      {
       "metadata": {},
       "output_type": "display_data",
       "png": "[encoded data removed]",
       "text": [
        "<matplotlib.figure.Figure at 0x10452e750>"
       ]
      }
     ],
     "prompt_number": 58
    },
    {
     "cell_type": "heading",
     "level": 2,
     "metadata": {},
     "source": [
      "Afghanistan"
     ]
    },
    {
     "cell_type": "code",
     "collapsed": false,
     "input": [
      "# arrays for country-specific year-by-year data\n",
      "life_exp_f_Afg = []\n",
      "life_exp_m_Afg = []\n",
      "\n",
      "# put country-specific data in arrays\n",
      "for country in life_exp_f:\n",
      "    if country[0] == \"Afghanistan\":\n",
      "        for year in country:\n",
      "            life_exp_f_Afg.append(year)\n",
      "\n",
      "for country in life_exp_m:\n",
      "    if country[0] == \"Afghanistan\":\n",
      "        for year in country:\n",
      "            life_exp_m_Afg.append(year)\n",
      "\n",
      "# remove the first three fields containing text descriptions (to make plotting possible)\n",
      "for text in life_exp_f_Afg[0:4]:\n",
      "    life_exp_f_Afg.remove(text)\n",
      "    \n",
      "for text in life_exp_m_Afg[0:4]:\n",
      "    life_exp_m_Afg.remove(text)\n",
      "\n",
      "# remove non-numeric (nan) values: generated by empty fields (missing data)    \n",
      "for value in life_exp_f_Afg:\n",
      "    if math.isnan(value):\n",
      "        life_exp_f_Afg.remove(value)\n",
      "        \n",
      "for value in life_exp_m_Afg:\n",
      "    if math.isnan(value):\n",
      "        life_exp_m_Afg.remove(value)"
     ],
     "language": "python",
     "metadata": {},
     "outputs": [],
     "prompt_number": 59
    },
    {
     "cell_type": "code",
     "collapsed": false,
     "input": [
      "plt.plot(life_exp_f_Afg)\n",
      "plt.plot(life_exp_m_Afg)"
     ],
     "language": "python",
     "metadata": {},
     "outputs": [
      {
       "metadata": {},
       "output_type": "pyout",
       "prompt_number": 60,
       "text": [
        "[<matplotlib.lines.Line2D at 0x1045c2a10>]"
       ]
      },
      {
       "metadata": {},
       "output_type": "display_data",
       "png": "[encoded data removed]",
       "text": [
        "<matplotlib.figure.Figure at 0x1045c2d50>"
       ]
      }
     ],
     "prompt_number": 60
    },
    {
     "cell_type": "heading",
     "level": 2,
     "metadata": {},
     "source": [
      "Pakistan"
     ]
    },
    {
     "cell_type": "code",
     "collapsed": false,
     "input": [
      "# arrays for country-specific year-by-year data\n",
      "life_exp_f_Pak = []\n",
      "life_exp_m_Pak = []\n",
      "\n",
      "# put country-specific data in arrays\n",
      "for country in life_exp_f:\n",
      "    if country[0] == \"Pakistan\":\n",
      "        for year in country:\n",
      "            life_exp_f_Pak.append(year)\n",
      "\n",
      "for country in life_exp_m:\n",
      "    if country[0] == \"Pakistan\":\n",
      "        for year in country:\n",
      "            life_exp_m_Pak.append(year)\n",
      "\n",
      "# remove the first three fields containing text descriptions (to make plotting possible)\n",
      "for text in life_exp_f_Pak[0:4]:\n",
      "    life_exp_f_Pak.remove(text)\n",
      "    \n",
      "for text in life_exp_m_Pak[0:4]:\n",
      "    life_exp_m_Pak.remove(text)\n",
      "\n",
      "# remove non-numeric (nan) values: generated by empty fields (missing data)    \n",
      "for value in life_exp_f_Pak:\n",
      "    if math.isnan(value):\n",
      "        life_exp_f_Pak.remove(value)\n",
      "        \n",
      "for value in life_exp_m_Pak:\n",
      "    if math.isnan(value):\n",
      "        life_exp_m_Pak.remove(value)"
     ],
     "language": "python",
     "metadata": {},
     "outputs": [],
     "prompt_number": 61
    },
    {
     "cell_type": "code",
     "collapsed": false,
     "input": [
      "plt.plot(life_exp_f_Pak)\n",
      "plt.plot(life_exp_m_Pak)"
     ],
     "language": "python",
     "metadata": {},
     "outputs": [
      {
       "metadata": {},
       "output_type": "pyout",
       "prompt_number": 62,
       "text": [
        "[<matplotlib.lines.Line2D at 0x103115990>]"
       ]
      },
      {
       "metadata": {},
       "output_type": "display_data",
       "png": "[encoded data removed]",
       "text": [
        "<matplotlib.figure.Figure at 0x1045c3850>"
       ]
      }
     ],
     "prompt_number": 62
    },
    {
     "cell_type": "heading",
     "level": 2,
     "metadata": {},
     "source": [
      "Saudi Arabia"
     ]
    }
   ],
   "metadata": {}
  }
 ]
}